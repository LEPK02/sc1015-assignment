{
 "cells": [
  {
   "cell_type": "markdown",
   "metadata": {},
   "source": [
    "According to https://www.researchgate.net/publication/376680813_Predicting_Football_Match_Outcomes_with_Machine_Learning_Approaches,\n",
    "<br>\n",
    "We need to perform:\n",
    "- Feature Engineering in order to determine which features to use.\n",
    "- Feature Selection to \"identify features that are highly correlated with eachother and select only one of them."
   ]
  },
  {
   "cell_type": "markdown",
   "metadata": {},
   "source": [
    "# Feature Engineering\n",
    "<br>\n",
    "Referred to https://r.search.yahoo.com/_ylt=Awrx_tK0Oxlm.nMPJ2Yj4gt.;_ylu=Y29sbwNzZzMEcG9zAzEEdnRpZAMEc2VjA3Ny/RV=2/RE=1712958517/RO=10/RU=https%3a%2f%2fwww.inase.org%2flibrary%2f2015%2fzakynthos%2fbypaper%2fCOMPUTERS%2fCOMPUTERS-57.pdf/RK=2/RS=s1YGTmXqhK3sR0WzkIGeuWnDaHk-"
   ]
  },
  {
   "cell_type": "code",
   "execution_count": null,
   "metadata": {},
   "outputs": [],
   "source": []
  },
  {
   "cell_type": "markdown",
   "metadata": {},
   "source": [
    "# Feature Selection\n",
    "<br>\n",
    "Referred to https://www.sciencedirect.com/science/article/pii/S1877050922007955 by Fátima Rodriguesa\n",
    "and Ângelo Pintob\n",
    "\n",
    "- Boruta algorithm was used. Boruta is a heuristic variable selection algorithm based on the random forests algorithm that aims to find the most relevant variables in a dataset.\n",
    "- The Boruta algorithm show the relevant and non-relevant variables. This algorithm was used because it does not look for a suboptimal solution, instead it tries to find all variables with relevant information, thus allowing to eliminate variables that would negatively affect the forecast models"
   ]
  },
  {
   "cell_type": "code",
   "execution_count": 1,
   "metadata": {},
   "outputs": [
    {
     "name": "stdout",
     "output_type": "stream",
     "text": [
      "Requirement already satisfied: boruta in /home/rachtrx/mambaforge/envs/sc1015/lib/python3.10/site-packages (0.3)\n",
      "Requirement already satisfied: numpy>=1.10.4 in /home/rachtrx/.local/lib/python3.10/site-packages (from boruta) (1.25.2)\n",
      "Requirement already satisfied: scikit-learn>=0.17.1 in /home/rachtrx/mambaforge/envs/sc1015/lib/python3.10/site-packages (from boruta) (1.4.1.post1)\n",
      "Requirement already satisfied: scipy>=0.17.0 in /home/rachtrx/mambaforge/envs/sc1015/lib/python3.10/site-packages (from boruta) (1.12.0)\n",
      "Requirement already satisfied: joblib>=1.2.0 in /home/rachtrx/mambaforge/envs/sc1015/lib/python3.10/site-packages (from scikit-learn>=0.17.1->boruta) (1.3.2)\n",
      "Requirement already satisfied: threadpoolctl>=2.0.0 in /home/rachtrx/mambaforge/envs/sc1015/lib/python3.10/site-packages (from scikit-learn>=0.17.1->boruta) (3.3.0)\n"
     ]
    }
   ],
   "source": [
    "!pip install boruta"
   ]
  },
  {
   "cell_type": "code",
   "execution_count": 4,
   "metadata": {},
   "outputs": [],
   "source": [
    "import pandas as pd\n",
    "from sklearn.model_selection import train_test_split"
   ]
  },
  {
   "cell_type": "code",
   "execution_count": 10,
   "metadata": {},
   "outputs": [],
   "source": [
    "teams_agg_df = pd.read_csv('./data/teams/teams_agg.csv')"
   ]
  },
  {
   "cell_type": "code",
   "execution_count": null,
   "metadata": {},
   "outputs": [],
   "source": []
  }
 ],
 "metadata": {
  "kernelspec": {
   "display_name": "sc1015",
   "language": "python",
   "name": "python3"
  },
  "language_info": {
   "codemirror_mode": {
    "name": "ipython",
    "version": 3
   },
   "file_extension": ".py",
   "mimetype": "text/x-python",
   "name": "python",
   "nbconvert_exporter": "python",
   "pygments_lexer": "ipython3",
   "version": "3.10.13"
  }
 },
 "nbformat": 4,
 "nbformat_minor": 2
}

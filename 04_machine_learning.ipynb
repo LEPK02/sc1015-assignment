{
 "cells": [
  {
   "cell_type": "code",
   "execution_count": 1,
   "id": "95826250",
   "metadata": {},
   "outputs": [],
   "source": [
    "import numpy as np\n",
    "import pandas as pd\n",
    "\n",
    "import matplotlib.pyplot as plt\n",
    "import matplotlib.patches as mpatches\n",
    "import seaborn as sns\n",
    "\n",
    "import pickle\n",
    "\n",
    "from constants.constants import *\n",
    "import json\n",
    "from sklearn.metrics import accuracy_score, precision_score, recall_score, f1_score, confusion_matrix, classification_report\n",
    "from sklearn.utils.class_weight import compute_sample_weight\n",
    "from IPython.display import HTML\n",
    "\n",
    "# Embeds graphs in Jupyter notebook (instead of pop-ups)\n",
    "%matplotlib inline\n",
    "\n",
    "# pd.set_option('display.max_columns', None) # show all columns"
   ]
  },
  {
   "cell_type": "markdown",
   "id": "27bbdcde",
   "metadata": {},
   "source": [
    "Try using Random Forest with Boruta Preprocessor to predict wins and losses\n",
    "\n",
    "### Note: If the model does not exist, please run `03_feature_selection.ipynb`"
   ]
  },
  {
   "cell_type": "code",
   "execution_count": 2,
   "id": "77df0c3b",
   "metadata": {},
   "outputs": [],
   "source": [
    "with open(BORUTA_FEATURES_PATH, 'r') as f:\n",
    "    selected_features = json.load(f)\n",
    "with open('data/machine_learning/pkl/processor.pkl', 'rb') as f:\n",
    "    preprocessor = pickle.load(f)\n",
    "\n",
    "df_train_preprocessed, df_test_preprocessed, y_train_encoded, y_test_encoded = preprocessor.get_processed_data() # contains team details\n",
    "df_train_preprocessed_features = df_train_preprocessed[selected_features]\n",
    "df_test_preprocessed_features = df_test_preprocessed[selected_features]"
   ]
  },
  {
   "cell_type": "markdown",
   "id": "45d4ceba",
   "metadata": {},
   "source": [
    "Preprocess the Predicted Data as well"
   ]
  },
  {
   "cell_type": "code",
   "execution_count": 3,
   "id": "e8b9e3b8",
   "metadata": {},
   "outputs": [],
   "source": [
    "prediction_df = pd.read_csv('data/machine_learning/2023_predict.csv')\n",
    "prediction_df = preprocessor.fit_data_to_predict(prediction_df)\n",
    "prediction_df = prediction_df[['team', 'opponent', 'country', *selected_features]]"
   ]
  },
  {
   "cell_type": "markdown",
   "id": "61f28b82",
   "metadata": {},
   "source": [
    "Draws seem to be harder to predict because they are underrepresented in the labels, so we balance the sample"
   ]
  },
  {
   "cell_type": "code",
   "execution_count": 4,
   "id": "622ef7f4",
   "metadata": {},
   "outputs": [],
   "source": [
    "sample_weight = compute_sample_weight(class_weight='balanced', y=y_train_encoded)\n",
    "\n",
    "# Store the metrics for each model in a dictionary\n",
    "model_metrics = {}"
   ]
  },
  {
   "cell_type": "markdown",
   "id": "4e129174",
   "metadata": {},
   "source": [
    "### Helper Function"
   ]
  },
  {
   "cell_type": "code",
   "execution_count": 5,
   "id": "0ba9f514",
   "metadata": {},
   "outputs": [],
   "source": [
    "def evaluate_model(model, X_train, y_train, X_test, y_test, df_2023, supports_sample_weight=True):\n",
    "\n",
    "    if supports_sample_weight:\n",
    "        model.fit(X_train, y_train, sample_weight=sample_weight)\n",
    "    else:\n",
    "        model.fit(X_train, y_train)\n",
    "    predictions = model.predict(X_test)\n",
    "\n",
    "    model_name = model.__class__.__name__\n",
    "\n",
    "    accuracy = accuracy_score(y_test, predictions)\n",
    "    precision = precision_score(y_test, predictions, average='weighted', zero_division=0)\n",
    "    recall = recall_score(y_test, predictions, average='weighted', zero_division=0)\n",
    "    f1 = f1_score(y_test, predictions, average='weighted', zero_division=0)\n",
    "\n",
    "    print(f\"Model: {model_name}\")\n",
    "    print(\"Accuracy:\", accuracy)\n",
    "    print(\"Precision:\", precision)\n",
    "    print(\"Recall:\", recall)\n",
    "    print(\"F1 Score:\", f1)\n",
    "\n",
    "    metrics = {\n",
    "        \"Accuracy\": accuracy,\n",
    "        \"Precision\": precision,\n",
    "        \"Recall\": recall,\n",
    "        \"F1 Score\": f1\n",
    "    }\n",
    "\n",
    "    model_metrics[model_name] = metrics\n",
    "\n",
    "    report = classification_report(y_test, predictions, target_names=preprocessor.target_encoder.classes_, zero_division=0, output_dict=True)\n",
    "    report_df = pd.DataFrame(report).transpose()\n",
    "\n",
    "    # Style the DataFrame\n",
    "    styled_df = report_df.style.set_table_styles([\n",
    "        {'selector': 'th', 'props': [('font-size', '12pt'), ('text-align', 'center')]},\n",
    "        {'selector': 'td', 'props': [('text-align', 'center')]}\n",
    "    ])\n",
    "\n",
    "    print(f\"\\nClassification Report for {model_name}:\")\n",
    "    display(styled_df)\n",
    "\n",
    "    encoded_labels = np.unique(np.concatenate((y_test, predictions)))\n",
    "    labels = preprocessor.target_encoder.inverse_transform(encoded_labels)\n",
    "    conf_mat = confusion_matrix(y_test, predictions, labels=encoded_labels)\n",
    "    plt.figure(figsize=(5, 3))  # Size of the figure\n",
    "    sns.heatmap(conf_mat, annot=True, fmt='d', cmap='Blues', cbar=False, xticklabels=labels, yticklabels=labels)\n",
    "    plt.xlabel('Predicted Labels')\n",
    "    plt.ylabel('True Labels')\n",
    "    plt.title(f'Confusion Matrix for {model_name}')\n",
    "    plt.show()\n",
    "\n",
    "    df_copy = df_test_preprocessed.copy()\n",
    "    df_copy['actual_result'] = preprocessor.target_encoder.inverse_transform(y_test)\n",
    "    predicted_labels = preprocessor.target_encoder.inverse_transform(predictions)\n",
    "    df_copy['predicted_result'] = predicted_labels\n",
    "    # display(df_copy[['country', 'team', 'opponent', 'is_home', 'predicted_result']])\n",
    "\n",
    "    df_2023_copy = df_2023.copy()\n",
    "    predictions_2023 = model.predict(df_2023.drop(['team', 'opponent', 'country'], axis=1))\n",
    "    predicted_labels_2023 = preprocessor.target_encoder.inverse_transform(predictions_2023)\n",
    "    df_2023_copy['predicted_result'] = predicted_labels_2023\n",
    "    final_df = df_2023_copy[['country', 'team', 'opponent', 'is_home', 'predicted_result']]\n",
    "    final_df.to_csv(f\"./data/machine_learning/predictions/{model_name}.csv\", index=False)"
   ]
  },
  {
   "cell_type": "markdown",
   "id": "e170c481",
   "metadata": {},
   "source": [
    "<h5>The following models are among the most popular and widely used for classification tasks.</h5>\n",
    "\n",
    "<table border=\"1\">\n",
    "    <thead>\n",
    "        <tr>\n",
    "            <th>Group</th>\n",
    "            <th>Model Name</th>\n",
    "            <th>Description</th>\n",
    "            <th>Best For</th>\n",
    "            <th>Limitations</th>\n",
    "        </tr>\n",
    "    </thead>\n",
    "    <tbody>\n",
    "        <tr>\n",
    "            <td>Linear Model</td>\n",
    "            <td>LogisticRegression</td>\n",
    "            <td>Uses a linear decision boundary to classify data</td>\n",
    "            <td>Problems where relationships between features and outcomes can be linearly approximated. Works well when data is linearly separable.</td>\n",
    "            <td>Performs poorly if relationships are highly non-linear without feature transformation.</td>\n",
    "        </tr>\n",
    "        <tr>\n",
    "            <td>Single Tree Model</td>\n",
    "            <td>DecisionTreeClassifier</td>\n",
    "            <td>Uses a single decision tree</td>\n",
    "            <td>Interpretable models; good for data with complex relationships but not too many features.</td>\n",
    "            <td>Prone to overfitting; sensitive to small changes in the data.</td>\n",
    "        </tr>\n",
    "        <tr>\n",
    "            <td>Tree-Based Ensemble Models</td>\n",
    "            <td>RandomForestClassifier, ExtraTreesClassifier, GradientBoostingClassifier</td>\n",
    "            <td>Built upon decision trees, utilizing multiple trees to improve prediction accuracy and control over-fitting.</td>\n",
    "            <td>Robust against overfitting; can handle both linear and non-linear data; suitable for mixed data types.</td>\n",
    "            <td>Computationally intensive; less interpretable due to complexity (especially boosting).</td>\n",
    "        </tr>\n",
    "        <tr>\n",
    "            <td>Probabilistic Model</td>\n",
    "            <td>GaussianNB</td>\n",
    "            <td>Uses statistical probability to make predictions.</td>\n",
    "            <td>Quick baseline models; effective when features have a Gaussian distribution.</td>\n",
    "            <td>Assumes independence between features, which can lead to poor performance when violated.</td>\n",
    "        </tr>\n",
    "        <tr>\n",
    "            <td>Instance-Based Model</td>\n",
    "            <td>KNeighborsClassifier</td>\n",
    "            <td>Uses the distances between data points to make predictions.</td>\n",
    "            <td>Effective for datasets where similar cases have similar outcomes; not too large datasets.</td>\n",
    "            <td>Struggles with high-dimensional data; computationally expensive.</td>\n",
    "        </tr>\n",
    "        <tr>\n",
    "            <td>Kernel-Based Model</td>\n",
    "            <td>SVC</td>\n",
    "            <td>Transforms data into a higher-dimensional space, making it possible to perform linear separation in that space.</td>\n",
    "            <td>Complex problems where the decision boundary is not linear; effective in higher-dimensional spaces.</td>\n",
    "            <td>Computationally intensive; requires careful parameter tuning and kernel selection.</td>\n",
    "        </tr>\n",
    "    </tbody>\n",
    "</table>"
   ]
  },
  {
   "cell_type": "markdown",
   "id": "52bbd8cc",
   "metadata": {},
   "source": [
    "### Logistic Regression\n",
    "\n",
    "`Linear Relationship`: Logistic Regression in a multi-class setting still computes a linear combination of the input features (weighted sum plus bias), but it does this for each class separately in the One-vs-Rest (OvR) scheme.\n",
    "\n",
    "`Softmax Function`: For multi-class classification, the sigmoid function used in binary classification is replaced by the softmax function. The softmax function is used to handle multiple classes and is a generalization of the sigmoid. It outputs a probability distribution across all classes. For each instance, the probabilities sum up to 1 across all possible outcomes (D, L, W).\n",
    "\n",
    "`Decision Rule`: In multi-class Logistic Regression, the predicted class for an observation is simply the class with the highest probability after applying the softmax function."
   ]
  },
  {
   "cell_type": "code",
   "execution_count": 6,
   "id": "61657a51",
   "metadata": {},
   "outputs": [
    {
     "name": "stdout",
     "output_type": "stream",
     "text": [
      "Model: LogisticRegression\n",
      "Accuracy: 0.5024288688410826\n",
      "Precision: 0.517026112386633\n",
      "Recall: 0.5024288688410826\n",
      "F1 Score: 0.508562468947365\n",
      "\n",
      "Classification Report for LogisticRegression:\n"
     ]
    },
    {
     "data": {
      "text/html": [
       "<style type=\"text/css\">\n",
       "#T_35f0d th {\n",
       "  font-size: 12pt;\n",
       "  text-align: center;\n",
       "}\n",
       "#T_35f0d td {\n",
       "  text-align: center;\n",
       "}\n",
       "</style>\n",
       "<table id=\"T_35f0d\">\n",
       "  <thead>\n",
       "    <tr>\n",
       "      <th class=\"blank level0\" >&nbsp;</th>\n",
       "      <th id=\"T_35f0d_level0_col0\" class=\"col_heading level0 col0\" >precision</th>\n",
       "      <th id=\"T_35f0d_level0_col1\" class=\"col_heading level0 col1\" >recall</th>\n",
       "      <th id=\"T_35f0d_level0_col2\" class=\"col_heading level0 col2\" >f1-score</th>\n",
       "      <th id=\"T_35f0d_level0_col3\" class=\"col_heading level0 col3\" >support</th>\n",
       "    </tr>\n",
       "  </thead>\n",
       "  <tbody>\n",
       "    <tr>\n",
       "      <th id=\"T_35f0d_level0_row0\" class=\"row_heading level0 row0\" >D</th>\n",
       "      <td id=\"T_35f0d_row0_col0\" class=\"data row0 col0\" >0.289082</td>\n",
       "      <td id=\"T_35f0d_row0_col1\" class=\"data row0 col1\" >0.350904</td>\n",
       "      <td id=\"T_35f0d_row0_col2\" class=\"data row0 col2\" >0.317007</td>\n",
       "      <td id=\"T_35f0d_row0_col3\" class=\"data row0 col3\" >664.000000</td>\n",
       "    </tr>\n",
       "    <tr>\n",
       "      <th id=\"T_35f0d_level0_row1\" class=\"row_heading level0 row1\" >L</th>\n",
       "      <td id=\"T_35f0d_row1_col0\" class=\"data row1 col0\" >0.590196</td>\n",
       "      <td id=\"T_35f0d_row1_col1\" class=\"data row1 col1\" >0.551787</td>\n",
       "      <td id=\"T_35f0d_row1_col2\" class=\"data row1 col2\" >0.570346</td>\n",
       "      <td id=\"T_35f0d_row1_col3\" class=\"data row1 col3\" >1091.000000</td>\n",
       "    </tr>\n",
       "    <tr>\n",
       "      <th id=\"T_35f0d_level0_row2\" class=\"row_heading level0 row2\" >W</th>\n",
       "      <td id=\"T_35f0d_row2_col0\" class=\"data row2 col0\" >0.580492</td>\n",
       "      <td id=\"T_35f0d_row2_col1\" class=\"data row2 col1\" >0.543922</td>\n",
       "      <td id=\"T_35f0d_row2_col2\" class=\"data row2 col2\" >0.561612</td>\n",
       "      <td id=\"T_35f0d_row2_col3\" class=\"data row2 col3\" >1127.000000</td>\n",
       "    </tr>\n",
       "    <tr>\n",
       "      <th id=\"T_35f0d_level0_row3\" class=\"row_heading level0 row3\" >accuracy</th>\n",
       "      <td id=\"T_35f0d_row3_col0\" class=\"data row3 col0\" >0.502429</td>\n",
       "      <td id=\"T_35f0d_row3_col1\" class=\"data row3 col1\" >0.502429</td>\n",
       "      <td id=\"T_35f0d_row3_col2\" class=\"data row3 col2\" >0.502429</td>\n",
       "      <td id=\"T_35f0d_row3_col3\" class=\"data row3 col3\" >0.502429</td>\n",
       "    </tr>\n",
       "    <tr>\n",
       "      <th id=\"T_35f0d_level0_row4\" class=\"row_heading level0 row4\" >macro avg</th>\n",
       "      <td id=\"T_35f0d_row4_col0\" class=\"data row4 col0\" >0.486590</td>\n",
       "      <td id=\"T_35f0d_row4_col1\" class=\"data row4 col1\" >0.482204</td>\n",
       "      <td id=\"T_35f0d_row4_col2\" class=\"data row4 col2\" >0.482988</td>\n",
       "      <td id=\"T_35f0d_row4_col3\" class=\"data row4 col3\" >2882.000000</td>\n",
       "    </tr>\n",
       "    <tr>\n",
       "      <th id=\"T_35f0d_level0_row5\" class=\"row_heading level0 row5\" >weighted avg</th>\n",
       "      <td id=\"T_35f0d_row5_col0\" class=\"data row5 col0\" >0.517026</td>\n",
       "      <td id=\"T_35f0d_row5_col1\" class=\"data row5 col1\" >0.502429</td>\n",
       "      <td id=\"T_35f0d_row5_col2\" class=\"data row5 col2\" >0.508562</td>\n",
       "      <td id=\"T_35f0d_row5_col3\" class=\"data row5 col3\" >2882.000000</td>\n",
       "    </tr>\n",
       "  </tbody>\n",
       "</table>\n"
      ],
      "text/plain": [
       "<pandas.io.formats.style.Styler at 0x7f0bb067b9a0>"
      ]
     },
     "metadata": {},
     "output_type": "display_data"
    },
    {
     "data": {
      "image/png": "[encoded data removed]",
      "text/plain": [
       "<Figure size 500x300 with 1 Axes>"
      ]
     },
     "metadata": {},
     "output_type": "display_data"
    }
   ],
   "source": [
    "from sklearn.linear_model import LogisticRegression\n",
    "evaluate_model(LogisticRegression(random_state=42), df_train_preprocessed_features, y_train_encoded, df_test_preprocessed_features, y_test_encoded, prediction_df)"
   ]
  },
  {
   "cell_type": "markdown",
   "id": "80cc634c",
   "metadata": {},
   "source": [
    "### Decision Tree\n",
    "\n",
    "`Tree Construction`: The model builds the tree by splitting the data into branches based on feature values. These splits are made at points that most effectively separate the different classes based on a specific metric, typically Gini impurity or entropy for classification tasks.\n",
    "- The tree will choose splits that decrease Gini impurity the most across the branches.\n",
    "- Entropy measures the amount of information disorder or uncertainty; the goal is to split the subsets such that the entropy decreases most rapidly towards zero\n",
    "\n",
    "`Recursive Splitting`: The process starts at the root of the tree and splits the data recursively on feature values. Each node represents a decision point, and each branch represents the outcome of that decision, leading to leaves that represent classifications or further splits.\n",
    "\n",
    "`Stopping Criteria`: The tree stops growing when it reaches a preset depth, a minimum number of samples per leaf, or if no further gain can be made from further splits (among other criteria). This prevents overfitting, which is common with decision trees due to their tendency to fit detailed data specifics rather than general trends.\n",
    "\n",
    "`Prediction`: Once the tree is built, predictions are made by passing new data points through the tree, starting from the root and making decisions at each node based on its features until a leaf node (a final class label) is reached."
   ]
  },
  {
   "cell_type": "code",
   "execution_count": 7,
   "id": "e0b49b28",
   "metadata": {},
   "outputs": [
    {
     "name": "stdout",
     "output_type": "stream",
     "text": [
      "Model: DecisionTreeClassifier\n",
      "Accuracy: 0.4226231783483692\n",
      "Precision: 0.4297667041199092\n",
      "Recall: 0.4226231783483692\n",
      "F1 Score: 0.42580107249568133\n",
      "\n",
      "Classification Report for DecisionTreeClassifier:\n"
     ]
    },
    {
     "data": {
      "text/html": [
       "<style type=\"text/css\">\n",
       "#T_cf0f9 th {\n",
       "  font-size: 12pt;\n",
       "  text-align: center;\n",
       "}\n",
       "#T_cf0f9 td {\n",
       "  text-align: center;\n",
       "}\n",
       "</style>\n",
       "<table id=\"T_cf0f9\">\n",
       "  <thead>\n",
       "    <tr>\n",
       "      <th class=\"blank level0\" >&nbsp;</th>\n",
       "      <th id=\"T_cf0f9_level0_col0\" class=\"col_heading level0 col0\" >precision</th>\n",
       "      <th id=\"T_cf0f9_level0_col1\" class=\"col_heading level0 col1\" >recall</th>\n",
       "      <th id=\"T_cf0f9_level0_col2\" class=\"col_heading level0 col2\" >f1-score</th>\n",
       "      <th id=\"T_cf0f9_level0_col3\" class=\"col_heading level0 col3\" >support</th>\n",
       "    </tr>\n",
       "  </thead>\n",
       "  <tbody>\n",
       "    <tr>\n",
       "      <th id=\"T_cf0f9_level0_row0\" class=\"row_heading level0 row0\" >D</th>\n",
       "      <td id=\"T_cf0f9_row0_col0\" class=\"data row0 col0\" >0.248670</td>\n",
       "      <td id=\"T_cf0f9_row0_col1\" class=\"data row0 col1\" >0.281627</td>\n",
       "      <td id=\"T_cf0f9_row0_col2\" class=\"data row0 col2\" >0.264124</td>\n",
       "      <td id=\"T_cf0f9_row0_col3\" class=\"data row0 col3\" >664.000000</td>\n",
       "    </tr>\n",
       "    <tr>\n",
       "      <th id=\"T_cf0f9_level0_row1\" class=\"row_heading level0 row1\" >L</th>\n",
       "      <td id=\"T_cf0f9_row1_col0\" class=\"data row1 col0\" >0.478303</td>\n",
       "      <td id=\"T_cf0f9_row1_col1\" class=\"data row1 col1\" >0.454629</td>\n",
       "      <td id=\"T_cf0f9_row1_col2\" class=\"data row1 col2\" >0.466165</td>\n",
       "      <td id=\"T_cf0f9_row1_col3\" class=\"data row1 col3\" >1091.000000</td>\n",
       "    </tr>\n",
       "    <tr>\n",
       "      <th id=\"T_cf0f9_level0_row2\" class=\"row_heading level0 row2\" >W</th>\n",
       "      <td id=\"T_cf0f9_row2_col0\" class=\"data row2 col0\" >0.489478</td>\n",
       "      <td id=\"T_cf0f9_row2_col1\" class=\"data row2 col1\" >0.474712</td>\n",
       "      <td id=\"T_cf0f9_row2_col2\" class=\"data row2 col2\" >0.481982</td>\n",
       "      <td id=\"T_cf0f9_row2_col3\" class=\"data row2 col3\" >1127.000000</td>\n",
       "    </tr>\n",
       "    <tr>\n",
       "      <th id=\"T_cf0f9_level0_row3\" class=\"row_heading level0 row3\" >accuracy</th>\n",
       "      <td id=\"T_cf0f9_row3_col0\" class=\"data row3 col0\" >0.422623</td>\n",
       "      <td id=\"T_cf0f9_row3_col1\" class=\"data row3 col1\" >0.422623</td>\n",
       "      <td id=\"T_cf0f9_row3_col2\" class=\"data row3 col2\" >0.422623</td>\n",
       "      <td id=\"T_cf0f9_row3_col3\" class=\"data row3 col3\" >0.422623</td>\n",
       "    </tr>\n",
       "    <tr>\n",
       "      <th id=\"T_cf0f9_level0_row4\" class=\"row_heading level0 row4\" >macro avg</th>\n",
       "      <td id=\"T_cf0f9_row4_col0\" class=\"data row4 col0\" >0.405484</td>\n",
       "      <td id=\"T_cf0f9_row4_col1\" class=\"data row4 col1\" >0.403656</td>\n",
       "      <td id=\"T_cf0f9_row4_col2\" class=\"data row4 col2\" >0.404091</td>\n",
       "      <td id=\"T_cf0f9_row4_col3\" class=\"data row4 col3\" >2882.000000</td>\n",
       "    </tr>\n",
       "    <tr>\n",
       "      <th id=\"T_cf0f9_level0_row5\" class=\"row_heading level0 row5\" >weighted avg</th>\n",
       "      <td id=\"T_cf0f9_row5_col0\" class=\"data row5 col0\" >0.429767</td>\n",
       "      <td id=\"T_cf0f9_row5_col1\" class=\"data row5 col1\" >0.422623</td>\n",
       "      <td id=\"T_cf0f9_row5_col2\" class=\"data row5 col2\" >0.425801</td>\n",
       "      <td id=\"T_cf0f9_row5_col3\" class=\"data row5 col3\" >2882.000000</td>\n",
       "    </tr>\n",
       "  </tbody>\n",
       "</table>\n"
      ],
      "text/plain": [
       "<pandas.io.formats.style.Styler at 0x7f0c0422cc10>"
      ]
     },
     "metadata": {},
     "output_type": "display_data"
    },
    {
     "data": {
      "image/png": "[encoded data removed]",
      "text/plain": [
       "<Figure size 500x300 with 1 Axes>"
      ]
     },
     "metadata": {},
     "output_type": "display_data"
    }
   ],
   "source": [
    "from sklearn.tree import DecisionTreeClassifier\n",
    "evaluate_model(DecisionTreeClassifier(random_state=42), df_train_preprocessed_features, y_train_encoded, df_test_preprocessed_features, y_test_encoded, prediction_df)"
   ]
  },
  {
   "cell_type": "markdown",
   "id": "c20ec91c",
   "metadata": {},
   "source": [
    "### Random Forest Classifier\n",
    "\n",
    "`Ensemble of Decision Trees`: A RandomForestClassifier operates by constructing a multitude of decision trees during the training phase. Each tree is built from a random sample of the training data, which helps ensure that the trees are diverse and that the model is robust against overfitting.\n",
    "\n",
    "`Random Selection of Features`: At each split in the construction of a tree, a random subset of the features is chosen to decide the best split among them. This randomness helps in creating more varied trees and contributes to the model's strength in handling complex datasets with many features.\n",
    "\n",
    "`Voting Mechanism`: For prediction, each tree in the forest votes for a class (W, D, or L in your case), and the class receiving the most votes becomes the model’s prediction. This is an example of a majority voting system, which leverages the collective decision-making of all the trees in the forest.\n",
    "\n",
    "`Probabilistic Nature`: The model can also provide probabilities for each class, indicating the likelihood of each possible outcome according to the different trees in the forest. This is derived from the proportion of trees that vote for each class."
   ]
  },
  {
   "cell_type": "code",
   "execution_count": 8,
   "id": "facf9cd9",
   "metadata": {},
   "outputs": [
    {
     "name": "stdout",
     "output_type": "stream",
     "text": [
      "Model: RandomForestClassifier\n",
      "Accuracy: 0.4750173490631506\n",
      "Precision: 0.4651722133848868\n",
      "Recall: 0.4750173490631506\n",
      "F1 Score: 0.4691437673337992\n",
      "\n",
      "Classification Report for RandomForestClassifier:\n"
     ]
    },
    {
     "data": {
      "text/html": [
       "<style type=\"text/css\">\n",
       "#T_949b6 th {\n",
       "  font-size: 12pt;\n",
       "  text-align: center;\n",
       "}\n",
       "#T_949b6 td {\n",
       "  text-align: center;\n",
       "}\n",
       "</style>\n",
       "<table id=\"T_949b6\">\n",
       "  <thead>\n",
       "    <tr>\n",
       "      <th class=\"blank level0\" >&nbsp;</th>\n",
       "      <th id=\"T_949b6_level0_col0\" class=\"col_heading level0 col0\" >precision</th>\n",
       "      <th id=\"T_949b6_level0_col1\" class=\"col_heading level0 col1\" >recall</th>\n",
       "      <th id=\"T_949b6_level0_col2\" class=\"col_heading level0 col2\" >f1-score</th>\n",
       "      <th id=\"T_949b6_level0_col3\" class=\"col_heading level0 col3\" >support</th>\n",
       "    </tr>\n",
       "  </thead>\n",
       "  <tbody>\n",
       "    <tr>\n",
       "      <th id=\"T_949b6_level0_row0\" class=\"row_heading level0 row0\" >D</th>\n",
       "      <td id=\"T_949b6_row0_col0\" class=\"data row0 col0\" >0.274725</td>\n",
       "      <td id=\"T_949b6_row0_col1\" class=\"data row0 col1\" >0.225904</td>\n",
       "      <td id=\"T_949b6_row0_col2\" class=\"data row0 col2\" >0.247934</td>\n",
       "      <td id=\"T_949b6_row0_col3\" class=\"data row0 col3\" >664.000000</td>\n",
       "    </tr>\n",
       "    <tr>\n",
       "      <th id=\"T_949b6_level0_row1\" class=\"row_heading level0 row1\" >L</th>\n",
       "      <td id=\"T_949b6_row1_col0\" class=\"data row1 col0\" >0.512175</td>\n",
       "      <td id=\"T_949b6_row1_col1\" class=\"data row1 col1\" >0.559120</td>\n",
       "      <td id=\"T_949b6_row1_col2\" class=\"data row1 col2\" >0.534619</td>\n",
       "      <td id=\"T_949b6_row1_col3\" class=\"data row1 col3\" >1091.000000</td>\n",
       "    </tr>\n",
       "    <tr>\n",
       "      <th id=\"T_949b6_level0_row2\" class=\"row_heading level0 row2\" >W</th>\n",
       "      <td id=\"T_949b6_row2_col0\" class=\"data row2 col0\" >0.531878</td>\n",
       "      <td id=\"T_949b6_row2_col1\" class=\"data row2 col1\" >0.540373</td>\n",
       "      <td id=\"T_949b6_row2_col2\" class=\"data row2 col2\" >0.536092</td>\n",
       "      <td id=\"T_949b6_row2_col3\" class=\"data row2 col3\" >1127.000000</td>\n",
       "    </tr>\n",
       "    <tr>\n",
       "      <th id=\"T_949b6_level0_row3\" class=\"row_heading level0 row3\" >accuracy</th>\n",
       "      <td id=\"T_949b6_row3_col0\" class=\"data row3 col0\" >0.475017</td>\n",
       "      <td id=\"T_949b6_row3_col1\" class=\"data row3 col1\" >0.475017</td>\n",
       "      <td id=\"T_949b6_row3_col2\" class=\"data row3 col2\" >0.475017</td>\n",
       "      <td id=\"T_949b6_row3_col3\" class=\"data row3 col3\" >0.475017</td>\n",
       "    </tr>\n",
       "    <tr>\n",
       "      <th id=\"T_949b6_level0_row4\" class=\"row_heading level0 row4\" >macro avg</th>\n",
       "      <td id=\"T_949b6_row4_col0\" class=\"data row4 col0\" >0.439593</td>\n",
       "      <td id=\"T_949b6_row4_col1\" class=\"data row4 col1\" >0.441799</td>\n",
       "      <td id=\"T_949b6_row4_col2\" class=\"data row4 col2\" >0.439548</td>\n",
       "      <td id=\"T_949b6_row4_col3\" class=\"data row4 col3\" >2882.000000</td>\n",
       "    </tr>\n",
       "    <tr>\n",
       "      <th id=\"T_949b6_level0_row5\" class=\"row_heading level0 row5\" >weighted avg</th>\n",
       "      <td id=\"T_949b6_row5_col0\" class=\"data row5 col0\" >0.465172</td>\n",
       "      <td id=\"T_949b6_row5_col1\" class=\"data row5 col1\" >0.475017</td>\n",
       "      <td id=\"T_949b6_row5_col2\" class=\"data row5 col2\" >0.469144</td>\n",
       "      <td id=\"T_949b6_row5_col3\" class=\"data row5 col3\" >2882.000000</td>\n",
       "    </tr>\n",
       "  </tbody>\n",
       "</table>\n"
      ],
      "text/plain": [
       "<pandas.io.formats.style.Styler at 0x7f0c041e7b50>"
      ]
     },
     "metadata": {},
     "output_type": "display_data"
    },
    {
     "data": {
      "image/png": "[encoded data removed]",
      "text/plain": [
       "<Figure size 500x300 with 1 Axes>"
      ]
     },
     "metadata": {},
     "output_type": "display_data"
    }
   ],
   "source": [
    "from sklearn.ensemble import RandomForestClassifier\n",
    "evaluate_model(RandomForestClassifier(random_state=42), df_train_preprocessed_features, y_train_encoded, df_test_preprocessed_features, y_test_encoded, prediction_df)"
   ]
  },
  {
   "cell_type": "markdown",
   "id": "84a1e989",
   "metadata": {},
   "source": [
    "### Extra Trees\n",
    "\n",
    "`Randomized Trees`: Like RandomForest, ExtraTrees builds multiple trees using subsets of the data but it randomizes the cuts more. It selects split points completely at random for each feature during the construction of the trees, rather than looking for the most informative thresholds.\n",
    "\n",
    "`No Bootstrapping`: Unlike RandomForest which uses bootstrapped samples (sampling with replacement), ExtraTrees uses the whole original sample which might lead to lower variance in the model.\n",
    "\n",
    "`Ensemble Method`: It constructs a multitude of decision trees at training time and outputs the class that is the mode of the classes (classification) of the individual trees.\n",
    "\n",
    "`Parallel Construction`: The trees are constructed in parallel during training phase. This parallelism is a key point in the speed of the algorithm.\n",
    "\n",
    "`Prediction`: For a given input, each tree in the Extra Trees ensemble makes a prediction and the final class prediction is the one that receives the majority vote from all the trees."
   ]
  },
  {
   "cell_type": "code",
   "execution_count": 9,
   "id": "ccca5db1",
   "metadata": {},
   "outputs": [
    {
     "name": "stdout",
     "output_type": "stream",
     "text": [
      "Model: ExtraTreesClassifier\n",
      "Accuracy: 0.4902845246356697\n",
      "Precision: 0.4707347637346044\n",
      "Recall: 0.4902845246356697\n",
      "F1 Score: 0.47755750031672634\n",
      "\n",
      "Classification Report for ExtraTreesClassifier:\n"
     ]
    },
    {
     "data": {
      "text/html": [
       "<style type=\"text/css\">\n",
       "#T_f5c6e th {\n",
       "  font-size: 12pt;\n",
       "  text-align: center;\n",
       "}\n",
       "#T_f5c6e td {\n",
       "  text-align: center;\n",
       "}\n",
       "</style>\n",
       "<table id=\"T_f5c6e\">\n",
       "  <thead>\n",
       "    <tr>\n",
       "      <th class=\"blank level0\" >&nbsp;</th>\n",
       "      <th id=\"T_f5c6e_level0_col0\" class=\"col_heading level0 col0\" >precision</th>\n",
       "      <th id=\"T_f5c6e_level0_col1\" class=\"col_heading level0 col1\" >recall</th>\n",
       "      <th id=\"T_f5c6e_level0_col2\" class=\"col_heading level0 col2\" >f1-score</th>\n",
       "      <th id=\"T_f5c6e_level0_col3\" class=\"col_heading level0 col3\" >support</th>\n",
       "    </tr>\n",
       "  </thead>\n",
       "  <tbody>\n",
       "    <tr>\n",
       "      <th id=\"T_f5c6e_level0_row0\" class=\"row_heading level0 row0\" >D</th>\n",
       "      <td id=\"T_f5c6e_row0_col0\" class=\"data row0 col0\" >0.267857</td>\n",
       "      <td id=\"T_f5c6e_row0_col1\" class=\"data row0 col1\" >0.180723</td>\n",
       "      <td id=\"T_f5c6e_row0_col2\" class=\"data row0 col2\" >0.215827</td>\n",
       "      <td id=\"T_f5c6e_row0_col3\" class=\"data row0 col3\" >664.000000</td>\n",
       "    </tr>\n",
       "    <tr>\n",
       "      <th id=\"T_f5c6e_level0_row1\" class=\"row_heading level0 row1\" >L</th>\n",
       "      <td id=\"T_f5c6e_row1_col0\" class=\"data row1 col0\" >0.522727</td>\n",
       "      <td id=\"T_f5c6e_row1_col1\" class=\"data row1 col1\" >0.590284</td>\n",
       "      <td id=\"T_f5c6e_row1_col2\" class=\"data row1 col2\" >0.554455</td>\n",
       "      <td id=\"T_f5c6e_row1_col3\" class=\"data row1 col3\" >1091.000000</td>\n",
       "    </tr>\n",
       "    <tr>\n",
       "      <th id=\"T_f5c6e_level0_row2\" class=\"row_heading level0 row2\" >W</th>\n",
       "      <td id=\"T_f5c6e_row2_col0\" class=\"data row2 col0\" >0.539933</td>\n",
       "      <td id=\"T_f5c6e_row2_col1\" class=\"data row2 col1\" >0.575865</td>\n",
       "      <td id=\"T_f5c6e_row2_col2\" class=\"data row2 col2\" >0.557321</td>\n",
       "      <td id=\"T_f5c6e_row2_col3\" class=\"data row2 col3\" >1127.000000</td>\n",
       "    </tr>\n",
       "    <tr>\n",
       "      <th id=\"T_f5c6e_level0_row3\" class=\"row_heading level0 row3\" >accuracy</th>\n",
       "      <td id=\"T_f5c6e_row3_col0\" class=\"data row3 col0\" >0.490285</td>\n",
       "      <td id=\"T_f5c6e_row3_col1\" class=\"data row3 col1\" >0.490285</td>\n",
       "      <td id=\"T_f5c6e_row3_col2\" class=\"data row3 col2\" >0.490285</td>\n",
       "      <td id=\"T_f5c6e_row3_col3\" class=\"data row3 col3\" >0.490285</td>\n",
       "    </tr>\n",
       "    <tr>\n",
       "      <th id=\"T_f5c6e_level0_row4\" class=\"row_heading level0 row4\" >macro avg</th>\n",
       "      <td id=\"T_f5c6e_row4_col0\" class=\"data row4 col0\" >0.443506</td>\n",
       "      <td id=\"T_f5c6e_row4_col1\" class=\"data row4 col1\" >0.448957</td>\n",
       "      <td id=\"T_f5c6e_row4_col2\" class=\"data row4 col2\" >0.442535</td>\n",
       "      <td id=\"T_f5c6e_row4_col3\" class=\"data row4 col3\" >2882.000000</td>\n",
       "    </tr>\n",
       "    <tr>\n",
       "      <th id=\"T_f5c6e_level0_row5\" class=\"row_heading level0 row5\" >weighted avg</th>\n",
       "      <td id=\"T_f5c6e_row5_col0\" class=\"data row5 col0\" >0.470735</td>\n",
       "      <td id=\"T_f5c6e_row5_col1\" class=\"data row5 col1\" >0.490285</td>\n",
       "      <td id=\"T_f5c6e_row5_col2\" class=\"data row5 col2\" >0.477558</td>\n",
       "      <td id=\"T_f5c6e_row5_col3\" class=\"data row5 col3\" >2882.000000</td>\n",
       "    </tr>\n",
       "  </tbody>\n",
       "</table>\n"
      ],
      "text/plain": [
       "<pandas.io.formats.style.Styler at 0x7f0c0422cbe0>"
      ]
     },
     "metadata": {},
     "output_type": "display_data"
    },
    {
     "data": {
      "image/png": "[encoded data removed]",
      "text/plain": [
       "<Figure size 500x300 with 1 Axes>"
      ]
     },
     "metadata": {},
     "output_type": "display_data"
    }
   ],
   "source": [
    "from sklearn.ensemble import ExtraTreesClassifier\n",
    "evaluate_model(ExtraTreesClassifier(random_state=42), df_train_preprocessed_features, y_train_encoded, df_test_preprocessed_features, y_test_encoded, prediction_df)"
   ]
  },
  {
   "cell_type": "markdown",
   "id": "ee068b57",
   "metadata": {},
   "source": [
    "### Gradient Boosting\n",
    "\n",
    "`Iterative Improvement`: It starts with a base estimator to make initial predictions and sequentially improves them by adding new models that correct the errors made by previous models.\n",
    "\n",
    "`Gradient Descent`: The \"gradient\" in Gradient Boosting refers to the method of using gradient descent to minimize the loss when adding new models. For classification, the loss function typically used is log loss.\n",
    "\n",
    "`Weak Learners`: Each new model is a decision tree, often with constraints such as a limited depth (shallow trees) to ensure they are \"weak\".\n",
    "\n",
    "`Additive Model`: Each tree is added one at a time, and existing trees in the model are not changed. The gradient descent step determines the contribution of each tree to the final prediction, often called the learning rate.\n",
    "\n",
    "`Multi-Class Classification`: For multi-class problems like W, D, and L, Gradient Boosting typically uses a one-vs-all (OvA) strategy where a separate binary classifier is fit for each class.\n",
    "\n",
    "`Prediction`: Predictions are made by summing up the contributions of all trees in the ensemble. The final prediction is the class that has the highest combined score from all the individual binary classifiers."
   ]
  },
  {
   "cell_type": "code",
   "execution_count": 10,
   "id": "5dafad27",
   "metadata": {},
   "outputs": [
    {
     "name": "stdout",
     "output_type": "stream",
     "text": [
      "Model: GradientBoostingClassifier\n",
      "Accuracy: 0.5003469812630118\n",
      "Precision: 0.5142225289149429\n",
      "Recall: 0.5003469812630118\n",
      "F1 Score: 0.5063100689540908\n",
      "\n",
      "Classification Report for GradientBoostingClassifier:\n"
     ]
    },
    {
     "data": {
      "text/html": [
       "<style type=\"text/css\">\n",
       "#T_41600 th {\n",
       "  font-size: 12pt;\n",
       "  text-align: center;\n",
       "}\n",
       "#T_41600 td {\n",
       "  text-align: center;\n",
       "}\n",
       "</style>\n",
       "<table id=\"T_41600\">\n",
       "  <thead>\n",
       "    <tr>\n",
       "      <th class=\"blank level0\" >&nbsp;</th>\n",
       "      <th id=\"T_41600_level0_col0\" class=\"col_heading level0 col0\" >precision</th>\n",
       "      <th id=\"T_41600_level0_col1\" class=\"col_heading level0 col1\" >recall</th>\n",
       "      <th id=\"T_41600_level0_col2\" class=\"col_heading level0 col2\" >f1-score</th>\n",
       "      <th id=\"T_41600_level0_col3\" class=\"col_heading level0 col3\" >support</th>\n",
       "    </tr>\n",
       "  </thead>\n",
       "  <tbody>\n",
       "    <tr>\n",
       "      <th id=\"T_41600_level0_row0\" class=\"row_heading level0 row0\" >D</th>\n",
       "      <td id=\"T_41600_row0_col0\" class=\"data row0 col0\" >0.279245</td>\n",
       "      <td id=\"T_41600_row0_col1\" class=\"data row0 col1\" >0.334337</td>\n",
       "      <td id=\"T_41600_row0_col2\" class=\"data row0 col2\" >0.304318</td>\n",
       "      <td id=\"T_41600_row0_col3\" class=\"data row0 col3\" >664.000000</td>\n",
       "    </tr>\n",
       "    <tr>\n",
       "      <th id=\"T_41600_level0_row1\" class=\"row_heading level0 row1\" >L</th>\n",
       "      <td id=\"T_41600_row1_col0\" class=\"data row1 col0\" >0.583008</td>\n",
       "      <td id=\"T_41600_row1_col1\" class=\"data row1 col1\" >0.547204</td>\n",
       "      <td id=\"T_41600_row1_col2\" class=\"data row1 col2\" >0.564539</td>\n",
       "      <td id=\"T_41600_row1_col3\" class=\"data row1 col3\" >1091.000000</td>\n",
       "    </tr>\n",
       "    <tr>\n",
       "      <th id=\"T_41600_level0_row2\" class=\"row_heading level0 row2\" >W</th>\n",
       "      <td id=\"T_41600_row2_col0\" class=\"data row2 col0\" >0.586077</td>\n",
       "      <td id=\"T_41600_row2_col1\" class=\"data row2 col1\" >0.552795</td>\n",
       "      <td id=\"T_41600_row2_col2\" class=\"data row2 col2\" >0.568950</td>\n",
       "      <td id=\"T_41600_row2_col3\" class=\"data row2 col3\" >1127.000000</td>\n",
       "    </tr>\n",
       "    <tr>\n",
       "      <th id=\"T_41600_level0_row3\" class=\"row_heading level0 row3\" >accuracy</th>\n",
       "      <td id=\"T_41600_row3_col0\" class=\"data row3 col0\" >0.500347</td>\n",
       "      <td id=\"T_41600_row3_col1\" class=\"data row3 col1\" >0.500347</td>\n",
       "      <td id=\"T_41600_row3_col2\" class=\"data row3 col2\" >0.500347</td>\n",
       "      <td id=\"T_41600_row3_col3\" class=\"data row3 col3\" >0.500347</td>\n",
       "    </tr>\n",
       "    <tr>\n",
       "      <th id=\"T_41600_level0_row4\" class=\"row_heading level0 row4\" >macro avg</th>\n",
       "      <td id=\"T_41600_row4_col0\" class=\"data row4 col0\" >0.482777</td>\n",
       "      <td id=\"T_41600_row4_col1\" class=\"data row4 col1\" >0.478112</td>\n",
       "      <td id=\"T_41600_row4_col2\" class=\"data row4 col2\" >0.479269</td>\n",
       "      <td id=\"T_41600_row4_col3\" class=\"data row4 col3\" >2882.000000</td>\n",
       "    </tr>\n",
       "    <tr>\n",
       "      <th id=\"T_41600_level0_row5\" class=\"row_heading level0 row5\" >weighted avg</th>\n",
       "      <td id=\"T_41600_row5_col0\" class=\"data row5 col0\" >0.514223</td>\n",
       "      <td id=\"T_41600_row5_col1\" class=\"data row5 col1\" >0.500347</td>\n",
       "      <td id=\"T_41600_row5_col2\" class=\"data row5 col2\" >0.506310</td>\n",
       "      <td id=\"T_41600_row5_col3\" class=\"data row5 col3\" >2882.000000</td>\n",
       "    </tr>\n",
       "  </tbody>\n",
       "</table>\n"
      ],
      "text/plain": [
       "<pandas.io.formats.style.Styler at 0x7f0afc2e6e00>"
      ]
     },
     "metadata": {},
     "output_type": "display_data"
    },
    {
     "data": {
      "image/png": "[encoded data removed]",
      "text/plain": [
       "<Figure size 500x300 with 1 Axes>"
      ]
     },
     "metadata": {},
     "output_type": "display_data"
    }
   ],
   "source": [
    "from sklearn.ensemble import GradientBoostingClassifier\n",
    "evaluate_model(GradientBoostingClassifier(random_state=42), df_train_preprocessed_features, y_train_encoded, df_test_preprocessed_features, y_test_encoded, prediction_df)"
   ]
  },
  {
   "cell_type": "markdown",
   "id": "ed549a46",
   "metadata": {},
   "source": [
    "### Naive Bayes\n",
    "\n",
    "It supports sample weight, but using sample weight will cause it to predict too many draws\n",
    "\n",
    "`Probability Model`: The model assumes that the data for each class follows a Gaussian (normal) distribution. This assumption simplifies the calculation of probabilities and makes the model computationally efficient.\n",
    "\n",
    "`Parameter Estimation`: It estimates the mean and variance of each feature for each class to describe the distribution. During training, these parameters are computed based on the training data.\n",
    "\n",
    "`Bayes' Theorem`: GaussianNB applies Bayes' Theorem to compute the probability $ P(C_k \\mid x) $ of each class $ C_k $ given a feature vector $ x $.\n",
    "\n",
    "$$\n",
    "P(C_k \\mid x) = \\frac{P(x \\mid C_k) \\cdot P(C_k)}{P(x)}\n",
    "$$\n",
    "\n",
    "`Class Prediction`: For a given test instance, the classifier calculates the probability $ P(C_k \\mid x) $ for each class and picks the class with the highest probability as the predicted class."
   ]
  },
  {
   "cell_type": "code",
   "execution_count": 11,
   "id": "8056cbcc",
   "metadata": {},
   "outputs": [
    {
     "name": "stdout",
     "output_type": "stream",
     "text": [
      "Model: GaussianNB\n",
      "Accuracy: 0.4823039555863983\n",
      "Precision: 0.49261242292211843\n",
      "Recall: 0.4823039555863983\n",
      "F1 Score: 0.48677216313562677\n",
      "\n",
      "Classification Report for GaussianNB:\n"
     ]
    },
    {
     "data": {
      "text/html": [
       "<style type=\"text/css\">\n",
       "#T_9c842 th {\n",
       "  font-size: 12pt;\n",
       "  text-align: center;\n",
       "}\n",
       "#T_9c842 td {\n",
       "  text-align: center;\n",
       "}\n",
       "</style>\n",
       "<table id=\"T_9c842\">\n",
       "  <thead>\n",
       "    <tr>\n",
       "      <th class=\"blank level0\" >&nbsp;</th>\n",
       "      <th id=\"T_9c842_level0_col0\" class=\"col_heading level0 col0\" >precision</th>\n",
       "      <th id=\"T_9c842_level0_col1\" class=\"col_heading level0 col1\" >recall</th>\n",
       "      <th id=\"T_9c842_level0_col2\" class=\"col_heading level0 col2\" >f1-score</th>\n",
       "      <th id=\"T_9c842_level0_col3\" class=\"col_heading level0 col3\" >support</th>\n",
       "    </tr>\n",
       "  </thead>\n",
       "  <tbody>\n",
       "    <tr>\n",
       "      <th id=\"T_9c842_level0_row0\" class=\"row_heading level0 row0\" >D</th>\n",
       "      <td id=\"T_9c842_row0_col0\" class=\"data row0 col0\" >0.280519</td>\n",
       "      <td id=\"T_9c842_row0_col1\" class=\"data row0 col1\" >0.325301</td>\n",
       "      <td id=\"T_9c842_row0_col2\" class=\"data row0 col2\" >0.301255</td>\n",
       "      <td id=\"T_9c842_row0_col3\" class=\"data row0 col3\" >664.000000</td>\n",
       "    </tr>\n",
       "    <tr>\n",
       "      <th id=\"T_9c842_level0_row1\" class=\"row_heading level0 row1\" >L</th>\n",
       "      <td id=\"T_9c842_row1_col0\" class=\"data row1 col0\" >0.545198</td>\n",
       "      <td id=\"T_9c842_row1_col1\" class=\"data row1 col1\" >0.530706</td>\n",
       "      <td id=\"T_9c842_row1_col2\" class=\"data row1 col2\" >0.537854</td>\n",
       "      <td id=\"T_9c842_row1_col3\" class=\"data row1 col3\" >1091.000000</td>\n",
       "    </tr>\n",
       "    <tr>\n",
       "      <th id=\"T_9c842_level0_row2\" class=\"row_heading level0 row2\" >W</th>\n",
       "      <td id=\"T_9c842_row2_col0\" class=\"data row2 col0\" >0.566667</td>\n",
       "      <td id=\"T_9c842_row2_col1\" class=\"data row2 col1\" >0.527950</td>\n",
       "      <td id=\"T_9c842_row2_col2\" class=\"data row2 col2\" >0.546624</td>\n",
       "      <td id=\"T_9c842_row2_col3\" class=\"data row2 col3\" >1127.000000</td>\n",
       "    </tr>\n",
       "    <tr>\n",
       "      <th id=\"T_9c842_level0_row3\" class=\"row_heading level0 row3\" >accuracy</th>\n",
       "      <td id=\"T_9c842_row3_col0\" class=\"data row3 col0\" >0.482304</td>\n",
       "      <td id=\"T_9c842_row3_col1\" class=\"data row3 col1\" >0.482304</td>\n",
       "      <td id=\"T_9c842_row3_col2\" class=\"data row3 col2\" >0.482304</td>\n",
       "      <td id=\"T_9c842_row3_col3\" class=\"data row3 col3\" >0.482304</td>\n",
       "    </tr>\n",
       "    <tr>\n",
       "      <th id=\"T_9c842_level0_row4\" class=\"row_heading level0 row4\" >macro avg</th>\n",
       "      <td id=\"T_9c842_row4_col0\" class=\"data row4 col0\" >0.464128</td>\n",
       "      <td id=\"T_9c842_row4_col1\" class=\"data row4 col1\" >0.461319</td>\n",
       "      <td id=\"T_9c842_row4_col2\" class=\"data row4 col2\" >0.461911</td>\n",
       "      <td id=\"T_9c842_row4_col3\" class=\"data row4 col3\" >2882.000000</td>\n",
       "    </tr>\n",
       "    <tr>\n",
       "      <th id=\"T_9c842_level0_row5\" class=\"row_heading level0 row5\" >weighted avg</th>\n",
       "      <td id=\"T_9c842_row5_col0\" class=\"data row5 col0\" >0.492612</td>\n",
       "      <td id=\"T_9c842_row5_col1\" class=\"data row5 col1\" >0.482304</td>\n",
       "      <td id=\"T_9c842_row5_col2\" class=\"data row5 col2\" >0.486772</td>\n",
       "      <td id=\"T_9c842_row5_col3\" class=\"data row5 col3\" >2882.000000</td>\n",
       "    </tr>\n",
       "  </tbody>\n",
       "</table>\n"
      ],
      "text/plain": [
       "<pandas.io.formats.style.Styler at 0x7f0c0422cbe0>"
      ]
     },
     "metadata": {},
     "output_type": "display_data"
    },
    {
     "data": {
      "image/png": "[encoded data removed]",
      "text/plain": [
       "<Figure size 500x300 with 1 Axes>"
      ]
     },
     "metadata": {},
     "output_type": "display_data"
    }
   ],
   "source": [
    "from sklearn.naive_bayes import GaussianNB\n",
    "evaluate_model(GaussianNB(), df_train_preprocessed_features, y_train_encoded, df_test_preprocessed_features, y_test_encoded, prediction_df, supports_sample_weight=False)"
   ]
  },
  {
   "cell_type": "markdown",
   "id": "cbaa04f0",
   "metadata": {},
   "source": [
    "### K-Neighbours\n",
    "\n",
    "The model's fit method does not support a sample_weight parameter\n",
    "\n",
    "`Distance Measurement`: The classifier calculates the distance between the data point it needs to classify and all other points in the training set. Common distance metrics include Euclidean, Manhattan, and Minkowski.\n",
    "\n",
    "`Nearest Neighbors Selection`: It then identifies the 'k' closest points, or 'neighbors,' based on the calculated distances. The number 'k' is a user-defined parameter and is crucial in determining how the model performs.\n",
    "\n",
    "`Majority Voting`: The prediction for the new data point is made based on a majority vote of its nearest neighbors. Each neighbor gets a vote towards their class, and the class with the most votes is assigned to the data point in question.\n",
    "\n",
    "`Handling Ties`: In case of a tie (where two or more classes receive the same number of votes), the model typically picks the class from the nearest point among the tied groups, although this can vary depending on the specific implementation."
   ]
  },
  {
   "cell_type": "code",
   "execution_count": 12,
   "id": "a8f48bbc",
   "metadata": {},
   "outputs": [
    {
     "name": "stdout",
     "output_type": "stream",
     "text": [
      "Model: KNeighborsClassifier\n",
      "Accuracy: 0.4437890353920888\n",
      "Precision: 0.46067603024891174\n",
      "Recall: 0.4437890353920888\n",
      "F1 Score: 0.44793817457673707\n",
      "\n",
      "Classification Report for KNeighborsClassifier:\n"
     ]
    },
    {
     "data": {
      "text/html": [
       "<style type=\"text/css\">\n",
       "#T_9c478 th {\n",
       "  font-size: 12pt;\n",
       "  text-align: center;\n",
       "}\n",
       "#T_9c478 td {\n",
       "  text-align: center;\n",
       "}\n",
       "</style>\n",
       "<table id=\"T_9c478\">\n",
       "  <thead>\n",
       "    <tr>\n",
       "      <th class=\"blank level0\" >&nbsp;</th>\n",
       "      <th id=\"T_9c478_level0_col0\" class=\"col_heading level0 col0\" >precision</th>\n",
       "      <th id=\"T_9c478_level0_col1\" class=\"col_heading level0 col1\" >recall</th>\n",
       "      <th id=\"T_9c478_level0_col2\" class=\"col_heading level0 col2\" >f1-score</th>\n",
       "      <th id=\"T_9c478_level0_col3\" class=\"col_heading level0 col3\" >support</th>\n",
       "    </tr>\n",
       "  </thead>\n",
       "  <tbody>\n",
       "    <tr>\n",
       "      <th id=\"T_9c478_level0_row0\" class=\"row_heading level0 row0\" >D</th>\n",
       "      <td id=\"T_9c478_row0_col0\" class=\"data row0 col0\" >0.266423</td>\n",
       "      <td id=\"T_9c478_row0_col1\" class=\"data row0 col1\" >0.329819</td>\n",
       "      <td id=\"T_9c478_row0_col2\" class=\"data row0 col2\" >0.294751</td>\n",
       "      <td id=\"T_9c478_row0_col3\" class=\"data row0 col3\" >664.000000</td>\n",
       "    </tr>\n",
       "    <tr>\n",
       "      <th id=\"T_9c478_level0_row1\" class=\"row_heading level0 row1\" >L</th>\n",
       "      <td id=\"T_9c478_row1_col0\" class=\"data row1 col0\" >0.493703</td>\n",
       "      <td id=\"T_9c478_row1_col1\" class=\"data row1 col1\" >0.538955</td>\n",
       "      <td id=\"T_9c478_row1_col2\" class=\"data row1 col2\" >0.515337</td>\n",
       "      <td id=\"T_9c478_row1_col3\" class=\"data row1 col3\" >1091.000000</td>\n",
       "    </tr>\n",
       "    <tr>\n",
       "      <th id=\"T_9c478_level0_row2\" class=\"row_heading level0 row2\" >W</th>\n",
       "      <td id=\"T_9c478_row2_col0\" class=\"data row2 col0\" >0.543153</td>\n",
       "      <td id=\"T_9c478_row2_col1\" class=\"data row2 col1\" >0.418811</td>\n",
       "      <td id=\"T_9c478_row2_col2\" class=\"data row2 col2\" >0.472946</td>\n",
       "      <td id=\"T_9c478_row2_col3\" class=\"data row2 col3\" >1127.000000</td>\n",
       "    </tr>\n",
       "    <tr>\n",
       "      <th id=\"T_9c478_level0_row3\" class=\"row_heading level0 row3\" >accuracy</th>\n",
       "      <td id=\"T_9c478_row3_col0\" class=\"data row3 col0\" >0.443789</td>\n",
       "      <td id=\"T_9c478_row3_col1\" class=\"data row3 col1\" >0.443789</td>\n",
       "      <td id=\"T_9c478_row3_col2\" class=\"data row3 col2\" >0.443789</td>\n",
       "      <td id=\"T_9c478_row3_col3\" class=\"data row3 col3\" >0.443789</td>\n",
       "    </tr>\n",
       "    <tr>\n",
       "      <th id=\"T_9c478_level0_row4\" class=\"row_heading level0 row4\" >macro avg</th>\n",
       "      <td id=\"T_9c478_row4_col0\" class=\"data row4 col0\" >0.434426</td>\n",
       "      <td id=\"T_9c478_row4_col1\" class=\"data row4 col1\" >0.429195</td>\n",
       "      <td id=\"T_9c478_row4_col2\" class=\"data row4 col2\" >0.427678</td>\n",
       "      <td id=\"T_9c478_row4_col3\" class=\"data row4 col3\" >2882.000000</td>\n",
       "    </tr>\n",
       "    <tr>\n",
       "      <th id=\"T_9c478_level0_row5\" class=\"row_heading level0 row5\" >weighted avg</th>\n",
       "      <td id=\"T_9c478_row5_col0\" class=\"data row5 col0\" >0.460676</td>\n",
       "      <td id=\"T_9c478_row5_col1\" class=\"data row5 col1\" >0.443789</td>\n",
       "      <td id=\"T_9c478_row5_col2\" class=\"data row5 col2\" >0.447938</td>\n",
       "      <td id=\"T_9c478_row5_col3\" class=\"data row5 col3\" >2882.000000</td>\n",
       "    </tr>\n",
       "  </tbody>\n",
       "</table>\n"
      ],
      "text/plain": [
       "<pandas.io.formats.style.Styler at 0x7f0afc2e7f10>"
      ]
     },
     "metadata": {},
     "output_type": "display_data"
    },
    {
     "data": {
      "image/png": "[encoded data removed]",
      "text/plain": [
       "<Figure size 500x300 with 1 Axes>"
      ]
     },
     "metadata": {},
     "output_type": "display_data"
    }
   ],
   "source": [
    "from sklearn.neighbors import KNeighborsClassifier\n",
    "evaluate_model(KNeighborsClassifier(), df_train_preprocessed_features, y_train_encoded, df_test_preprocessed_features, y_test_encoded, prediction_df, supports_sample_weight=False)"
   ]
  },
  {
   "cell_type": "markdown",
   "id": "4af96afa",
   "metadata": {},
   "source": [
    "### Support Vector Machines\n",
    "\n",
    "`Maximizing Margin`: SVC works by finding a hyperplane (in high-dimensional space) that best separates the classes with the maximum margin. The margin is the distance between the hyperplane and the nearest data points from each class, known as support vectors. The larger the margin, the lower the generalization error of the classifier.\n",
    "\n",
    "`Handling Multi-Class`: By default, scikit-learn implements the one-vs-one (OvO) approach for multi-class classification with SVC. This involves training a separate classifier for every pair of classes:\n",
    "- Wins vs. Draws\n",
    "- Wins vs. Losses\n",
    "- Draws vs. Losses\n",
    "\n",
    "`Class Prediction`: During prediction, each binary classifier votes for one of the two classes it distinguishes. The final predicted class is the one that gets the most votes across all binary classifiers."
   ]
  },
  {
   "cell_type": "code",
   "execution_count": 13,
   "id": "179949fb",
   "metadata": {},
   "outputs": [
    {
     "name": "stdout",
     "output_type": "stream",
     "text": [
      "Model: SVC\n",
      "Accuracy: 0.49826509368494104\n",
      "Precision: 0.521564101835813\n",
      "Recall: 0.49826509368494104\n",
      "F1 Score: 0.5069503818780905\n",
      "\n",
      "Classification Report for SVC:\n"
     ]
    },
    {
     "data": {
      "text/html": [
       "<style type=\"text/css\">\n",
       "#T_44bd9 th {\n",
       "  font-size: 12pt;\n",
       "  text-align: center;\n",
       "}\n",
       "#T_44bd9 td {\n",
       "  text-align: center;\n",
       "}\n",
       "</style>\n",
       "<table id=\"T_44bd9\">\n",
       "  <thead>\n",
       "    <tr>\n",
       "      <th class=\"blank level0\" >&nbsp;</th>\n",
       "      <th id=\"T_44bd9_level0_col0\" class=\"col_heading level0 col0\" >precision</th>\n",
       "      <th id=\"T_44bd9_level0_col1\" class=\"col_heading level0 col1\" >recall</th>\n",
       "      <th id=\"T_44bd9_level0_col2\" class=\"col_heading level0 col2\" >f1-score</th>\n",
       "      <th id=\"T_44bd9_level0_col3\" class=\"col_heading level0 col3\" >support</th>\n",
       "    </tr>\n",
       "  </thead>\n",
       "  <tbody>\n",
       "    <tr>\n",
       "      <th id=\"T_44bd9_level0_row0\" class=\"row_heading level0 row0\" >D</th>\n",
       "      <td id=\"T_44bd9_row0_col0\" class=\"data row0 col0\" >0.293258</td>\n",
       "      <td id=\"T_44bd9_row0_col1\" class=\"data row0 col1\" >0.393072</td>\n",
       "      <td id=\"T_44bd9_row0_col2\" class=\"data row0 col2\" >0.335907</td>\n",
       "      <td id=\"T_44bd9_row0_col3\" class=\"data row0 col3\" >664.000000</td>\n",
       "    </tr>\n",
       "    <tr>\n",
       "      <th id=\"T_44bd9_level0_row1\" class=\"row_heading level0 row1\" >L</th>\n",
       "      <td id=\"T_44bd9_row1_col0\" class=\"data row1 col0\" >0.587413</td>\n",
       "      <td id=\"T_44bd9_row1_col1\" class=\"data row1 col1\" >0.538955</td>\n",
       "      <td id=\"T_44bd9_row1_col2\" class=\"data row1 col2\" >0.562141</td>\n",
       "      <td id=\"T_44bd9_row1_col3\" class=\"data row1 col3\" >1091.000000</td>\n",
       "    </tr>\n",
       "    <tr>\n",
       "      <th id=\"T_44bd9_level0_row2\" class=\"row_heading level0 row2\" >W</th>\n",
       "      <td id=\"T_44bd9_row2_col0\" class=\"data row2 col0\" >0.592331</td>\n",
       "      <td id=\"T_44bd9_row2_col1\" class=\"data row2 col1\" >0.520852</td>\n",
       "      <td id=\"T_44bd9_row2_col2\" class=\"data row2 col2\" >0.554297</td>\n",
       "      <td id=\"T_44bd9_row2_col3\" class=\"data row2 col3\" >1127.000000</td>\n",
       "    </tr>\n",
       "    <tr>\n",
       "      <th id=\"T_44bd9_level0_row3\" class=\"row_heading level0 row3\" >accuracy</th>\n",
       "      <td id=\"T_44bd9_row3_col0\" class=\"data row3 col0\" >0.498265</td>\n",
       "      <td id=\"T_44bd9_row3_col1\" class=\"data row3 col1\" >0.498265</td>\n",
       "      <td id=\"T_44bd9_row3_col2\" class=\"data row3 col2\" >0.498265</td>\n",
       "      <td id=\"T_44bd9_row3_col3\" class=\"data row3 col3\" >0.498265</td>\n",
       "    </tr>\n",
       "    <tr>\n",
       "      <th id=\"T_44bd9_level0_row4\" class=\"row_heading level0 row4\" >macro avg</th>\n",
       "      <td id=\"T_44bd9_row4_col0\" class=\"data row4 col0\" >0.491001</td>\n",
       "      <td id=\"T_44bd9_row4_col1\" class=\"data row4 col1\" >0.484293</td>\n",
       "      <td id=\"T_44bd9_row4_col2\" class=\"data row4 col2\" >0.484115</td>\n",
       "      <td id=\"T_44bd9_row4_col3\" class=\"data row4 col3\" >2882.000000</td>\n",
       "    </tr>\n",
       "    <tr>\n",
       "      <th id=\"T_44bd9_level0_row5\" class=\"row_heading level0 row5\" >weighted avg</th>\n",
       "      <td id=\"T_44bd9_row5_col0\" class=\"data row5 col0\" >0.521564</td>\n",
       "      <td id=\"T_44bd9_row5_col1\" class=\"data row5 col1\" >0.498265</td>\n",
       "      <td id=\"T_44bd9_row5_col2\" class=\"data row5 col2\" >0.506950</td>\n",
       "      <td id=\"T_44bd9_row5_col3\" class=\"data row5 col3\" >2882.000000</td>\n",
       "    </tr>\n",
       "  </tbody>\n",
       "</table>\n"
      ],
      "text/plain": [
       "<pandas.io.formats.style.Styler at 0x7f0bb067b460>"
      ]
     },
     "metadata": {},
     "output_type": "display_data"
    },
    {
     "data": {
      "image/png": "[encoded data removed]",
      "text/plain": [
       "<Figure size 500x300 with 1 Axes>"
      ]
     },
     "metadata": {},
     "output_type": "display_data"
    }
   ],
   "source": [
    "from sklearn.svm import SVC\n",
    "evaluate_model(SVC(random_state=42), df_train_preprocessed_features, y_train_encoded, df_test_preprocessed_features, y_test_encoded, prediction_df)"
   ]
  },
  {
   "cell_type": "code",
   "execution_count": 14,
   "id": "cf74de8e",
   "metadata": {},
   "outputs": [],
   "source": [
    "metrics_df = pd.DataFrame(model_metrics).T\n",
    "metrics_df.to_csv('data/machine_learning/model_metrics.csv')"
   ]
  },
  {
   "cell_type": "markdown",
   "id": "5e8e5473",
   "metadata": {},
   "source": [
    "Proceed to deep_learning.ipynb"
   ]
  }
 ],
 "metadata": {
  "kernelspec": {
   "display_name": "Python 3 (ipykernel)",
   "language": "python",
   "name": "python3"
  },
  "language_info": {
   "codemirror_mode": {
    "name": "ipython",
    "version": 3
   },
   "file_extension": ".py",
   "mimetype": "text/x-python",
   "name": "python",
   "nbconvert_exporter": "python",
   "pygments_lexer": "ipython3",
   "version": "3.10.13"
  }
 },
 "nbformat": 4,
 "nbformat_minor": 5
}

{
 "cells": [
  {
   "cell_type": "markdown",
   "metadata": {},
   "source": [
    "# LSTM"
   ]
  },
  {
   "cell_type": "markdown",
   "metadata": {},
   "source": [
    "**Motivation**\n",
    "\n",
    "https://www.sciencedirect.com/science/article/pii/S2352864821000602\n",
    "\n",
    "\"The prediction of sports performance should adopt nonlinear prediction because there are many factors affecting sports competitions. Taking football games as an example, the stadium will affect the mentality of the players, and a home match is more conducive to the players' performance. The players’ physical and psychological quality, the game tactics, weather factors and even some unexpected accidental factors will also affect the result of the game. Therefore, the linear prediction method cannot consider these factors, but the nonlinear method can.\""
   ]
  },
  {
   "cell_type": "markdown",
   "metadata": {},
   "source": [
    "`Sliding Window`: We plain to build an LSTM model that takes a fixed-size window **(5 games in our case)** of the most recent games as input. This window \"slides\" across your chronological data, moving forward one game at a time, providing a continuous sequence of input data for the model.\n",
    "\n",
    "`Cell State Mechanics`: As the window slides, the LSTM updates its internal state based on the information from the current window and what it has retained from the previous window. \n",
    "- Forget Gate: Decides which details are no longer needed from the past and removes them from the cell state.\n",
    "- Input Gate: Adds new information that is relevant to predicting future scores into the cell state.\n",
    "- Output Gate: Determines what the current output should be based on the cell state and the input at the current step.\n",
    "This allows the model to maintain a memory of important events over the sequence of windows, or sequences of 5 games.\n",
    "\n",
    "`Learning Over Time`: As the LSTM processes each sequence of consecutive games, it can learn the dynamics that affect team scores. It understands the context in a sequence, like winning streaks or scoring patterns, which can be crucial for predicting future scores.\n",
    "\n",
    "`Regression Output`: Unlike the sklearn models, we decided to try to **predict both teams' scores (regression) rather than the outcome (classification)**. Hence the final layer is not a softmax but a dense layer with a linear activation. This layer outputs the predicted numeric values for the team and opponent scores."
   ]
  },
  {
   "cell_type": "code",
   "execution_count": 1,
   "metadata": {},
   "outputs": [
    {
     "name": "stderr",
     "output_type": "stream",
     "text": [
      "2024-04-24 13:58:31.640219: I tensorflow/core/util/port.cc:113] oneDNN custom operations are on. You may see slightly different numerical results due to floating-point round-off errors from different computation orders. To turn them off, set the environment variable `TF_ENABLE_ONEDNN_OPTS=0`.\n",
      "2024-04-24 13:58:31.683478: E external/local_xla/xla/stream_executor/cuda/cuda_dnn.cc:9261] Unable to register cuDNN factory: Attempting to register factory for plugin cuDNN when one has already been registered\n",
      "2024-04-24 13:58:31.683508: E external/local_xla/xla/stream_executor/cuda/cuda_fft.cc:607] Unable to register cuFFT factory: Attempting to register factory for plugin cuFFT when one has already been registered\n",
      "2024-04-24 13:58:31.684353: E external/local_xla/xla/stream_executor/cuda/cuda_blas.cc:1515] Unable to register cuBLAS factory: Attempting to register factory for plugin cuBLAS when one has already been registered\n",
      "2024-04-24 13:58:31.691266: I tensorflow/core/platform/cpu_feature_guard.cc:182] This TensorFlow binary is optimized to use available CPU instructions in performance-critical operations.\n",
      "To enable the following instructions: SSE4.1 SSE4.2 AVX AVX2 AVX_VNNI FMA, in other operations, rebuild TensorFlow with the appropriate compiler flags.\n"
     ]
    }
   ],
   "source": [
    "import datetime\n",
    "import numpy as np\n",
    "import pandas as pd\n",
    "import seaborn as sns\n",
    "import matplotlib.pyplot as plt\n",
    "import pickle\n",
    "import json\n",
    "from constants.constants import *\n",
    "\n",
    "from sklearn.preprocessing import StandardScaler\n",
    "from sklearn.metrics import accuracy_score, precision_score, recall_score, f1_score, confusion_matrix, classification_report\n",
    "\n",
    "\n",
    "from keras.models import Sequential\n",
    "from keras.layers import LSTM, Dense, Dropout\n",
    "from tensorflow.keras.regularizers import l1_l2\n",
    "from tensorflow.keras.callbacks import EarlyStopping\n",
    "from tensorflow.keras.utils import plot_model\n",
    "from tensorflow.keras.models import load_model\n",
    "from tensorflow.keras.callbacks import TensorBoard"
   ]
  },
  {
   "cell_type": "code",
   "execution_count": 2,
   "metadata": {},
   "outputs": [],
   "source": [
    "with open(BORUTA_FEATURES_PATH, 'r') as f:\n",
    "    selected_features = json.load(f)"
   ]
  },
  {
   "cell_type": "code",
   "execution_count": 3,
   "metadata": {},
   "outputs": [],
   "source": [
    "label_cols = ['score', 'opponent_score']\n",
    "\n",
    "additional_cols = ['team', 'opponent', 'country', 'season_start_year']\n",
    "\n",
    "selected_features = [f for f in selected_features if f not in additional_cols + label_cols]\n",
    "\n",
    "required_cols = selected_features + additional_cols + label_cols"
   ]
  },
  {
   "cell_type": "code",
   "execution_count": 4,
   "metadata": {},
   "outputs": [
    {
     "name": "stdout",
     "output_type": "stream",
     "text": [
      "20\n"
     ]
    }
   ],
   "source": [
    "N_FEATURES = len(selected_features)\n",
    "print(N_FEATURES)"
   ]
  },
  {
   "cell_type": "code",
   "execution_count": 5,
   "metadata": {},
   "outputs": [
    {
     "name": "stdout",
     "output_type": "stream",
     "text": [
      "True\n"
     ]
    }
   ],
   "source": [
    "print('season_start_year' in required_cols)"
   ]
  },
  {
   "cell_type": "code",
   "execution_count": 6,
   "metadata": {},
   "outputs": [],
   "source": [
    "SEQUENCE_LENGTH = 5\n",
    "\n",
    "dfs = []\n",
    "\n",
    "for year in range(2019, 2023):\n",
    "    df = pd.read_csv(f'./data/machine_learning/scoreline/{str(year)}.csv')\n",
    "    df = df[required_cols]\n",
    "    dfs.append(df)\n",
    "\n",
    "main_df = pd.concat(dfs, ignore_index=True)"
   ]
  },
  {
   "cell_type": "code",
   "execution_count": 7,
   "metadata": {},
   "outputs": [],
   "source": [
    "scaler = StandardScaler()\n",
    "scaler_y = StandardScaler()\n",
    "\n",
    "features_to_scale = [f for f in selected_features if f != 'is_home']\n",
    "\n",
    "scaled_data = scaler.fit_transform(main_df[features_to_scale])\n",
    "scaled_df = pd.DataFrame(scaled_data, columns=features_to_scale)\n",
    "scaled_y = scaler_y.fit_transform(main_df[label_cols])\n",
    "scaled_y_df = pd.DataFrame(scaled_y, columns=label_cols)\n",
    "unscaled_df = main_df.drop(columns=features_to_scale + label_cols)\n",
    "final_df = pd.concat([scaled_df, scaled_y_df, unscaled_df], axis=1)"
   ]
  },
  {
   "cell_type": "code",
   "execution_count": 8,
   "metadata": {},
   "outputs": [],
   "source": [
    "def create_sequences(df):\n",
    "    sequences = []\n",
    "    for _, group in df.groupby(['season_start_year', 'team']):\n",
    "        for i in range(len(group)):\n",
    "            start_index = max(0, i - SEQUENCE_LENGTH + 1)\n",
    "            seq = group.iloc[start_index:i+1].copy()\n",
    "            if len(seq) < SEQUENCE_LENGTH:\n",
    "                padding_length = SEQUENCE_LENGTH - len(seq)\n",
    "                padding_data = pd.DataFrame([[0] * len(seq.columns) for _ in range(padding_length)], columns=seq.columns)\n",
    "                seq = pd.concat([padding_data, seq], ignore_index=True)\n",
    "            sequences.append(seq)\n",
    "    return sequences\n",
    "\n",
    "def process_data(sequences, train=True):\n",
    "    X = []\n",
    "    y = []\n",
    "    teams = []\n",
    "    for sequence in sequences:\n",
    "        team_info = sequence[['team', 'opponent', 'country', 'season_start_year', 'is_home']].iloc[-1]\n",
    "        features = sequence[selected_features].values\n",
    "        if train:\n",
    "            labels = sequence[label_cols].values[-1]\n",
    "            y.append(labels)\n",
    "        X.append(features)\n",
    "        teams.append(team_info.to_dict())\n",
    "    if train:\n",
    "        return np.array(X, dtype='float32'), np.array(y), np.array(teams)\n",
    "    else:\n",
    "        return np.array(X, dtype='float32'), np.array(teams)"
   ]
  },
  {
   "cell_type": "code",
   "execution_count": 9,
   "metadata": {},
   "outputs": [],
   "source": [
    "train_df = final_df[final_df['season_start_year'] < 2022]\n",
    "test_df = final_df[final_df['season_start_year'] >= 2022]\n",
    "\n",
    "train_sequences = create_sequences(train_df)\n",
    "test_sequences = create_sequences(test_df)\n",
    "\n",
    "X_train, y_train, teams_train = process_data(train_sequences)\n",
    "X_test, y_test, teams_test = process_data(test_sequences)"
   ]
  },
  {
   "cell_type": "code",
   "execution_count": 10,
   "metadata": {},
   "outputs": [
    {
     "name": "stderr",
     "output_type": "stream",
     "text": [
      "2024-04-24 13:58:48.445326: I external/local_xla/xla/stream_executor/cuda/cuda_executor.cc:887] could not open file to read NUMA node: /sys/bus/pci/devices/0000:01:00.0/numa_node\n",
      "Your kernel may have been built without NUMA support.\n",
      "2024-04-24 13:58:48.530579: I external/local_xla/xla/stream_executor/cuda/cuda_executor.cc:887] could not open file to read NUMA node: /sys/bus/pci/devices/0000:01:00.0/numa_node\n",
      "Your kernel may have been built without NUMA support.\n",
      "2024-04-24 13:58:48.530648: I external/local_xla/xla/stream_executor/cuda/cuda_executor.cc:887] could not open file to read NUMA node: /sys/bus/pci/devices/0000:01:00.0/numa_node\n",
      "Your kernel may have been built without NUMA support.\n",
      "2024-04-24 13:58:48.542924: I external/local_xla/xla/stream_executor/cuda/cuda_executor.cc:887] could not open file to read NUMA node: /sys/bus/pci/devices/0000:01:00.0/numa_node\n",
      "Your kernel may have been built without NUMA support.\n",
      "2024-04-24 13:58:48.543045: I external/local_xla/xla/stream_executor/cuda/cuda_executor.cc:887] could not open file to read NUMA node: /sys/bus/pci/devices/0000:01:00.0/numa_node\n",
      "Your kernel may have been built without NUMA support.\n",
      "2024-04-24 13:58:48.543077: I external/local_xla/xla/stream_executor/cuda/cuda_executor.cc:887] could not open file to read NUMA node: /sys/bus/pci/devices/0000:01:00.0/numa_node\n",
      "Your kernel may have been built without NUMA support.\n",
      "2024-04-24 13:58:49.827852: I external/local_xla/xla/stream_executor/cuda/cuda_executor.cc:887] could not open file to read NUMA node: /sys/bus/pci/devices/0000:01:00.0/numa_node\n",
      "Your kernel may have been built without NUMA support.\n",
      "2024-04-24 13:58:49.827958: I external/local_xla/xla/stream_executor/cuda/cuda_executor.cc:887] could not open file to read NUMA node: /sys/bus/pci/devices/0000:01:00.0/numa_node\n",
      "Your kernel may have been built without NUMA support.\n",
      "2024-04-24 13:58:49.827967: I tensorflow/core/common_runtime/gpu/gpu_device.cc:2022] Could not identify NUMA node of platform GPU id 0, defaulting to 0.  Your kernel may not have been built with NUMA support.\n",
      "2024-04-24 13:58:49.828011: I external/local_xla/xla/stream_executor/cuda/cuda_executor.cc:887] could not open file to read NUMA node: /sys/bus/pci/devices/0000:01:00.0/numa_node\n",
      "Your kernel may have been built without NUMA support.\n",
      "2024-04-24 13:58:49.828033: I tensorflow/core/common_runtime/gpu/gpu_device.cc:1929] Created device /job:localhost/replica:0/task:0/device:GPU:0 with 3421 MB memory:  -> device: 0, name: NVIDIA GeForce RTX 3060 Laptop GPU, pci bus id: 0000:01:00.0, compute capability: 8.6\n"
     ]
    }
   ],
   "source": [
    "model = Sequential()\n",
    "model.add(LSTM(50, activation='tanh',\n",
    "               input_shape=(SEQUENCE_LENGTH, N_FEATURES),\n",
    "               kernel_regularizer=l1_l2(l1=0.01, l2=0.01),\n",
    "               recurrent_regularizer=l1_l2(l1=0.01, l2=0.01)))\n",
    "model.add(Dense(2, activation='linear', kernel_regularizer=l1_l2(l1=0.01, l2=0.01)))\n",
    "model.compile(optimizer='adam', loss='mse')"
   ]
  },
  {
   "cell_type": "code",
   "execution_count": 11,
   "metadata": {},
   "outputs": [
    {
     "name": "stdout",
     "output_type": "stream",
     "text": [
      "Model: \"sequential\"\n",
      "_________________________________________________________________\n",
      " Layer (type)                Output Shape              Param #   \n",
      "=================================================================\n",
      " lstm (LSTM)                 (None, 50)                14200     \n",
      "                                                                 \n",
      " dense (Dense)               (None, 2)                 102       \n",
      "                                                                 \n",
      "=================================================================\n",
      "Total params: 14302 (55.87 KB)\n",
      "Trainable params: 14302 (55.87 KB)\n",
      "Non-trainable params: 0 (0.00 Byte)\n",
      "_________________________________________________________________\n"
     ]
    }
   ],
   "source": [
    "model.summary()"
   ]
  },
  {
   "cell_type": "code",
   "execution_count": 12,
   "metadata": {},
   "outputs": [
    {
     "data": {
      "image/png": "[encoded data removed]",
      "text/plain": [
       "<IPython.core.display.Image object>"
      ]
     },
     "execution_count": 12,
     "metadata": {},
     "output_type": "execute_result"
    }
   ],
   "source": [
    "# This saves a PNG image of your model architecture to a file\n",
    "plot_model(model, to_file='data/machine_learning/img/lstm_model.png', show_shapes=True, show_layer_names=True)"
   ]
  },
  {
   "cell_type": "code",
   "execution_count": 13,
   "metadata": {},
   "outputs": [],
   "source": [
    "# Create a logs directory with a timestamp to organize training runs\n",
    "log_dir = \"logs/fit/\" + datetime.datetime.now().strftime(\"%Y%m%d-%H%M%S\")\n",
    "tensorboard_callback = TensorBoard(log_dir=log_dir, histogram_freq=1)"
   ]
  },
  {
   "cell_type": "code",
   "execution_count": 14,
   "metadata": {},
   "outputs": [
    {
     "name": "stdout",
     "output_type": "stream",
     "text": [
      "Epoch 1/100\n"
     ]
    },
    {
     "name": "stderr",
     "output_type": "stream",
     "text": [
      "2024-04-24 13:58:55.480505: I external/local_xla/xla/stream_executor/cuda/cuda_dnn.cc:454] Loaded cuDNN version 8800\n",
      "2024-04-24 13:58:56.528465: I external/local_xla/xla/service/service.cc:168] XLA service 0x7f4d2819e1b0 initialized for platform CUDA (this does not guarantee that XLA will be used). Devices:\n",
      "2024-04-24 13:58:56.528509: I external/local_xla/xla/service/service.cc:176]   StreamExecutor device (0): NVIDIA GeForce RTX 3060 Laptop GPU, Compute Capability 8.6\n",
      "2024-04-24 13:58:56.533702: I tensorflow/compiler/mlir/tensorflow/utils/dump_mlir_util.cc:269] disabling MLIR crash reproducer, set env var `MLIR_CRASH_REPRODUCER_DIRECTORY` to enable.\n",
      "WARNING: All log messages before absl::InitializeLog() is called are written to STDERR\n",
      "I0000 00:00:1713938336.648628  358937 device_compiler.h:186] Compiled cluster using XLA!  This line is logged at most once for the lifetime of the process.\n"
     ]
    },
    {
     "name": "stdout",
     "output_type": "stream",
     "text": [
      "269/269 [==============================] - 9s 11ms/step - loss: 3.1231 - val_loss: 1.1903\n",
      "Epoch 2/100\n",
      "269/269 [==============================] - 3s 10ms/step - loss: 1.0540 - val_loss: 1.0843\n",
      "Epoch 3/100\n",
      "269/269 [==============================] - 2s 8ms/step - loss: 0.9988 - val_loss: 1.0543\n",
      "Epoch 4/100\n",
      "269/269 [==============================] - 2s 8ms/step - loss: 0.9849 - val_loss: 1.0442\n",
      "Epoch 5/100\n",
      "269/269 [==============================] - 2s 8ms/step - loss: 0.9765 - val_loss: 1.0332\n",
      "Epoch 6/100\n",
      "269/269 [==============================] - 2s 8ms/step - loss: 0.9705 - val_loss: 1.0282\n",
      "Epoch 7/100\n",
      "269/269 [==============================] - 2s 8ms/step - loss: 0.9676 - val_loss: 1.0235\n",
      "Epoch 8/100\n",
      "269/269 [==============================] - 2s 8ms/step - loss: 0.9643 - val_loss: 1.0203\n",
      "Epoch 9/100\n",
      "269/269 [==============================] - 2s 8ms/step - loss: 0.9609 - val_loss: 1.0166\n",
      "Epoch 10/100\n",
      "269/269 [==============================] - 2s 8ms/step - loss: 0.9573 - val_loss: 1.0128\n",
      "Epoch 11/100\n",
      "269/269 [==============================] - 2s 9ms/step - loss: 0.9545 - val_loss: 1.0069\n",
      "Epoch 12/100\n",
      "269/269 [==============================] - 2s 8ms/step - loss: 0.9514 - val_loss: 1.0029\n",
      "Epoch 13/100\n",
      "269/269 [==============================] - 2s 8ms/step - loss: 0.9499 - val_loss: 1.0034\n",
      "Epoch 14/100\n",
      "269/269 [==============================] - 2s 8ms/step - loss: 0.9483 - val_loss: 1.0014\n",
      "Epoch 15/100\n",
      "269/269 [==============================] - 2s 8ms/step - loss: 0.9473 - val_loss: 0.9986\n",
      "Epoch 16/100\n",
      "269/269 [==============================] - 2s 8ms/step - loss: 0.9460 - val_loss: 0.9974\n",
      "Epoch 17/100\n",
      "269/269 [==============================] - 2s 9ms/step - loss: 0.9450 - val_loss: 0.9975\n",
      "Epoch 18/100\n",
      "269/269 [==============================] - 2s 8ms/step - loss: 0.9441 - val_loss: 0.9968\n",
      "Epoch 19/100\n",
      "269/269 [==============================] - 2s 8ms/step - loss: 0.9435 - val_loss: 0.9957\n",
      "Epoch 20/100\n",
      "269/269 [==============================] - 2s 8ms/step - loss: 0.9426 - val_loss: 0.9957\n",
      "Epoch 21/100\n",
      "269/269 [==============================] - 2s 8ms/step - loss: 0.9419 - val_loss: 0.9925\n",
      "Epoch 22/100\n",
      "269/269 [==============================] - 2s 8ms/step - loss: 0.9417 - val_loss: 0.9924\n",
      "Epoch 23/100\n",
      "269/269 [==============================] - 2s 8ms/step - loss: 0.9414 - val_loss: 0.9922\n",
      "Epoch 24/100\n",
      "269/269 [==============================] - 2s 8ms/step - loss: 0.9407 - val_loss: 0.9919\n",
      "Epoch 25/100\n",
      "269/269 [==============================] - 2s 8ms/step - loss: 0.9403 - val_loss: 0.9920\n",
      "Epoch 26/100\n",
      "269/269 [==============================] - 2s 8ms/step - loss: 0.9400 - val_loss: 0.9883\n",
      "Epoch 27/100\n",
      "269/269 [==============================] - 2s 8ms/step - loss: 0.9396 - val_loss: 0.9902\n",
      "Epoch 28/100\n",
      "269/269 [==============================] - 2s 8ms/step - loss: 0.9392 - val_loss: 0.9889\n",
      "Epoch 29/100\n",
      "269/269 [==============================] - 2s 8ms/step - loss: 0.9390 - val_loss: 0.9889\n",
      "Epoch 30/100\n",
      "269/269 [==============================] - 2s 9ms/step - loss: 0.9389 - val_loss: 0.9884\n",
      "Epoch 31/100\n",
      "269/269 [==============================] - 2s 9ms/step - loss: 0.9383 - val_loss: 0.9877\n",
      "Epoch 32/100\n",
      "269/269 [==============================] - 2s 9ms/step - loss: 0.9382 - val_loss: 0.9878\n",
      "Epoch 33/100\n",
      "269/269 [==============================] - 2s 9ms/step - loss: 0.9383 - val_loss: 0.9899\n",
      "Epoch 34/100\n",
      "269/269 [==============================] - 2s 9ms/step - loss: 0.9381 - val_loss: 0.9867\n",
      "Epoch 35/100\n",
      "269/269 [==============================] - 2s 9ms/step - loss: 0.9376 - val_loss: 0.9874\n",
      "Epoch 36/100\n",
      "269/269 [==============================] - 2s 8ms/step - loss: 0.9377 - val_loss: 0.9865\n",
      "Epoch 37/100\n",
      "269/269 [==============================] - 2s 8ms/step - loss: 0.9371 - val_loss: 0.9867\n",
      "Epoch 38/100\n",
      "269/269 [==============================] - 2s 8ms/step - loss: 0.9373 - val_loss: 0.9840\n",
      "Epoch 39/100\n",
      "269/269 [==============================] - 2s 8ms/step - loss: 0.9372 - val_loss: 0.9871\n",
      "Epoch 40/100\n",
      "269/269 [==============================] - 2s 8ms/step - loss: 0.9370 - val_loss: 0.9863\n",
      "Epoch 41/100\n",
      "269/269 [==============================] - 2s 8ms/step - loss: 0.9370 - val_loss: 0.9865\n",
      "Epoch 42/100\n",
      "269/269 [==============================] - 2s 8ms/step - loss: 0.9368 - val_loss: 0.9853\n",
      "Epoch 43/100\n",
      "269/269 [==============================] - 2s 8ms/step - loss: 0.9368 - val_loss: 0.9858\n",
      "Epoch 44/100\n",
      "269/269 [==============================] - 2s 8ms/step - loss: 0.9365 - val_loss: 0.9859\n",
      "Epoch 45/100\n",
      "269/269 [==============================] - 2s 8ms/step - loss: 0.9364 - val_loss: 0.9865\n",
      "Epoch 46/100\n",
      "269/269 [==============================] - 2s 8ms/step - loss: 0.9365 - val_loss: 0.9875\n",
      "Epoch 47/100\n",
      "269/269 [==============================] - 2s 8ms/step - loss: 0.9363 - val_loss: 0.9851\n",
      "Epoch 48/100\n",
      "269/269 [==============================] - 2s 8ms/step - loss: 0.9364 - val_loss: 0.9847\n"
     ]
    }
   ],
   "source": [
    "early_stopping = EarlyStopping(monitor='val_loss', patience=10, restore_best_weights=True)\n",
    "\n",
    "history = model.fit(X_train, y_train, epochs=100, validation_split=0.2, callbacks=[early_stopping, tensorboard_callback])"
   ]
  },
  {
   "cell_type": "code",
   "execution_count": 16,
   "metadata": {},
   "outputs": [],
   "source": [
    "model.save('data/machine_learning/lstm_model.keras')"
   ]
  },
  {
   "cell_type": "code",
   "execution_count": 17,
   "metadata": {},
   "outputs": [],
   "source": [
    "model = load_model('data/machine_learning/lstm_model.keras')"
   ]
  },
  {
   "cell_type": "code",
   "execution_count": 18,
   "metadata": {},
   "outputs": [],
   "source": [
    "# !tensorboard --logdir logs/fit --bind_all"
   ]
  },
  {
   "cell_type": "code",
   "execution_count": 19,
   "metadata": {},
   "outputs": [
    {
     "name": "stdout",
     "output_type": "stream",
     "text": [
      "115/115 [==============================] - 1s 4ms/step\n"
     ]
    }
   ],
   "source": [
    "y_pred_scaled = model.predict(X_test)\n",
    "y_pred = scaler_y.inverse_transform(y_pred_scaled)\n",
    "predictions = np.rint(y_pred).astype(int)"
   ]
  },
  {
   "cell_type": "code",
   "execution_count": 20,
   "metadata": {},
   "outputs": [],
   "source": [
    "actual_y_test = scaler_y.inverse_transform(y_test)"
   ]
  },
  {
   "cell_type": "code",
   "execution_count": 21,
   "metadata": {},
   "outputs": [
    {
     "data": {
      "text/plain": [
       "False"
      ]
     },
     "execution_count": 21,
     "metadata": {},
     "output_type": "execute_result"
    }
   ],
   "source": [
    "np.all(actual_y_test[:, 1] == 1)"
   ]
  },
  {
   "cell_type": "code",
   "execution_count": 22,
   "metadata": {},
   "outputs": [],
   "source": [
    "def return_results(predictions, teams_df, train=True):\n",
    "    results = []\n",
    "    for i, prediction in enumerate(predictions):\n",
    "        team_entry = teams_df[i]  # Assuming teams[i] is a Series with 'team', 'opponent', and 'country'\n",
    "        predicted_score = prediction[0]\n",
    "        predicted_opponent_score = prediction[1]\n",
    "        predicted_outcome = 'W' if predicted_score > predicted_opponent_score else 'L' if predicted_score < predicted_opponent_score else 'D'\n",
    "        \n",
    "        # Now add the correct dictionary to your results list\n",
    "        result = {\n",
    "            'team': team_entry['team'],\n",
    "            'opponent': team_entry['opponent'],\n",
    "            'is_home': team_entry['is_home'],\n",
    "            'country': team_entry['country'],\n",
    "            'season_start_year': team_entry['season_start_year'],\n",
    "            'predicted_score': predicted_score,\n",
    "            'predicted_opponent_score': predicted_opponent_score,\n",
    "            'predicted_outcome': predicted_outcome,\n",
    "        }\n",
    "        if train:\n",
    "            actual_score = actual_y_test[i, 0]\n",
    "            actual_opponent_score = actual_y_test[i, 1]\n",
    "            actual_outcome = 'W' if actual_score > actual_opponent_score else 'L' if actual_score < actual_opponent_score else 'D'\n",
    "            result['actual_score'] = actual_score\n",
    "            result['actual_opponent_score'] = actual_opponent_score\n",
    "            result['actual_outcome'] = actual_outcome\n",
    "        results.append(result)\n",
    "    return results\n",
    "\n"
   ]
  },
  {
   "cell_type": "code",
   "execution_count": 23,
   "metadata": {},
   "outputs": [
    {
     "data": {
      "text/html": [
       "<div>\n",
       "<style scoped>\n",
       "    .dataframe tbody tr th:only-of-type {\n",
       "        vertical-align: middle;\n",
       "    }\n",
       "\n",
       "    .dataframe tbody tr th {\n",
       "        vertical-align: top;\n",
       "    }\n",
       "\n",
       "    .dataframe thead th {\n",
       "        text-align: right;\n",
       "    }\n",
       "</style>\n",
       "<table border=\"1\" class=\"dataframe\">\n",
       "  <thead>\n",
       "    <tr style=\"text-align: right;\">\n",
       "      <th></th>\n",
       "      <th>team</th>\n",
       "      <th>opponent</th>\n",
       "      <th>is_home</th>\n",
       "      <th>country</th>\n",
       "      <th>season_start_year</th>\n",
       "      <th>predicted_score</th>\n",
       "      <th>predicted_opponent_score</th>\n",
       "      <th>predicted_outcome</th>\n",
       "      <th>actual_score</th>\n",
       "      <th>actual_opponent_score</th>\n",
       "      <th>actual_outcome</th>\n",
       "    </tr>\n",
       "  </thead>\n",
       "  <tbody>\n",
       "    <tr>\n",
       "      <th>2434</th>\n",
       "      <td>Nice</td>\n",
       "      <td>Reims</td>\n",
       "      <td>1</td>\n",
       "      <td>FRA</td>\n",
       "      <td>2022</td>\n",
       "      <td>2</td>\n",
       "      <td>1</td>\n",
       "      <td>W</td>\n",
       "      <td>2.220446e-16</td>\n",
       "      <td>2.220446e-16</td>\n",
       "      <td>D</td>\n",
       "    </tr>\n",
       "    <tr>\n",
       "      <th>1068</th>\n",
       "      <td>Crystal Palace</td>\n",
       "      <td>West Ham</td>\n",
       "      <td>0</td>\n",
       "      <td>ENG</td>\n",
       "      <td>2022</td>\n",
       "      <td>1</td>\n",
       "      <td>2</td>\n",
       "      <td>L</td>\n",
       "      <td>2.000000e+00</td>\n",
       "      <td>1.000000e+00</td>\n",
       "      <td>W</td>\n",
       "    </tr>\n",
       "    <tr>\n",
       "      <th>424</th>\n",
       "      <td>Auxerre</td>\n",
       "      <td>Montpellier</td>\n",
       "      <td>1</td>\n",
       "      <td>FRA</td>\n",
       "      <td>2022</td>\n",
       "      <td>1</td>\n",
       "      <td>1</td>\n",
       "      <td>D</td>\n",
       "      <td>2.220446e-16</td>\n",
       "      <td>2.000000e+00</td>\n",
       "      <td>L</td>\n",
       "    </tr>\n",
       "    <tr>\n",
       "      <th>800</th>\n",
       "      <td>Brest</td>\n",
       "      <td>PSG</td>\n",
       "      <td>0</td>\n",
       "      <td>FRA</td>\n",
       "      <td>2022</td>\n",
       "      <td>1</td>\n",
       "      <td>2</td>\n",
       "      <td>L</td>\n",
       "      <td>2.220446e-16</td>\n",
       "      <td>1.000000e+00</td>\n",
       "      <td>L</td>\n",
       "    </tr>\n",
       "    <tr>\n",
       "      <th>2879</th>\n",
       "      <td>Sassuolo</td>\n",
       "      <td>Verona</td>\n",
       "      <td>1</td>\n",
       "      <td>ITA</td>\n",
       "      <td>2022</td>\n",
       "      <td>2</td>\n",
       "      <td>1</td>\n",
       "      <td>W</td>\n",
       "      <td>2.000000e+00</td>\n",
       "      <td>1.000000e+00</td>\n",
       "      <td>W</td>\n",
       "    </tr>\n",
       "    <tr>\n",
       "      <th>3049</th>\n",
       "      <td>Spezia</td>\n",
       "      <td>Torino</td>\n",
       "      <td>0</td>\n",
       "      <td>ITA</td>\n",
       "      <td>2022</td>\n",
       "      <td>1</td>\n",
       "      <td>2</td>\n",
       "      <td>L</td>\n",
       "      <td>1.000000e+00</td>\n",
       "      <td>2.220446e-16</td>\n",
       "      <td>W</td>\n",
       "    </tr>\n",
       "    <tr>\n",
       "      <th>1446</th>\n",
       "      <td>Getafe</td>\n",
       "      <td>Atl. Madrid</td>\n",
       "      <td>1</td>\n",
       "      <td>SPA</td>\n",
       "      <td>2022</td>\n",
       "      <td>1</td>\n",
       "      <td>2</td>\n",
       "      <td>L</td>\n",
       "      <td>2.220446e-16</td>\n",
       "      <td>3.000000e+00</td>\n",
       "      <td>L</td>\n",
       "    </tr>\n",
       "    <tr>\n",
       "      <th>60</th>\n",
       "      <td>AC Milan</td>\n",
       "      <td>Empoli</td>\n",
       "      <td>0</td>\n",
       "      <td>ITA</td>\n",
       "      <td>2022</td>\n",
       "      <td>2</td>\n",
       "      <td>1</td>\n",
       "      <td>W</td>\n",
       "      <td>3.000000e+00</td>\n",
       "      <td>1.000000e+00</td>\n",
       "      <td>W</td>\n",
       "    </tr>\n",
       "    <tr>\n",
       "      <th>3194</th>\n",
       "      <td>Tottenham</td>\n",
       "      <td>Manchester Utd</td>\n",
       "      <td>0</td>\n",
       "      <td>ENG</td>\n",
       "      <td>2022</td>\n",
       "      <td>2</td>\n",
       "      <td>2</td>\n",
       "      <td>D</td>\n",
       "      <td>2.220446e-16</td>\n",
       "      <td>2.000000e+00</td>\n",
       "      <td>L</td>\n",
       "    </tr>\n",
       "    <tr>\n",
       "      <th>758</th>\n",
       "      <td>Brentford</td>\n",
       "      <td>Manchester City</td>\n",
       "      <td>1</td>\n",
       "      <td>ENG</td>\n",
       "      <td>2022</td>\n",
       "      <td>1</td>\n",
       "      <td>2</td>\n",
       "      <td>L</td>\n",
       "      <td>1.000000e+00</td>\n",
       "      <td>2.220446e-16</td>\n",
       "      <td>W</td>\n",
       "    </tr>\n",
       "  </tbody>\n",
       "</table>\n",
       "</div>"
      ],
      "text/plain": [
       "                team         opponent  is_home country  season_start_year  \\\n",
       "2434            Nice            Reims        1     FRA               2022   \n",
       "1068  Crystal Palace         West Ham        0     ENG               2022   \n",
       "424          Auxerre      Montpellier        1     FRA               2022   \n",
       "800            Brest              PSG        0     FRA               2022   \n",
       "2879        Sassuolo           Verona        1     ITA               2022   \n",
       "3049          Spezia           Torino        0     ITA               2022   \n",
       "1446          Getafe      Atl. Madrid        1     SPA               2022   \n",
       "60          AC Milan           Empoli        0     ITA               2022   \n",
       "3194       Tottenham   Manchester Utd        0     ENG               2022   \n",
       "758        Brentford  Manchester City        1     ENG               2022   \n",
       "\n",
       "      predicted_score  predicted_opponent_score predicted_outcome  \\\n",
       "2434                2                         1                 W   \n",
       "1068                1                         2                 L   \n",
       "424                 1                         1                 D   \n",
       "800                 1                         2                 L   \n",
       "2879                2                         1                 W   \n",
       "3049                1                         2                 L   \n",
       "1446                1                         2                 L   \n",
       "60                  2                         1                 W   \n",
       "3194                2                         2                 D   \n",
       "758                 1                         2                 L   \n",
       "\n",
       "      actual_score  actual_opponent_score actual_outcome  \n",
       "2434  2.220446e-16           2.220446e-16              D  \n",
       "1068  2.000000e+00           1.000000e+00              W  \n",
       "424   2.220446e-16           2.000000e+00              L  \n",
       "800   2.220446e-16           1.000000e+00              L  \n",
       "2879  2.000000e+00           1.000000e+00              W  \n",
       "3049  1.000000e+00           2.220446e-16              W  \n",
       "1446  2.220446e-16           3.000000e+00              L  \n",
       "60    3.000000e+00           1.000000e+00              W  \n",
       "3194  2.220446e-16           2.000000e+00              L  \n",
       "758   1.000000e+00           2.220446e-16              W  "
      ]
     },
     "metadata": {},
     "output_type": "display_data"
    }
   ],
   "source": [
    "results = return_results(predictions, teams_test)\n",
    "\n",
    "# Assuming y_pred and y_test are numpy arrays of the scores\n",
    "comparison_df = pd.DataFrame(results)\n",
    "\n",
    "# Sample for inspection\n",
    "display(comparison_df.sample(10))"
   ]
  },
  {
   "cell_type": "markdown",
   "metadata": {},
   "source": [
    "Confusion matrix for Test Data"
   ]
  },
  {
   "cell_type": "code",
   "execution_count": 30,
   "metadata": {},
   "outputs": [
    {
     "name": "stdout",
     "output_type": "stream",
     "text": [
      "Accuracy: 0.48083242059145676\n",
      "Precision: 0.49434165420562226\n",
      "Recall: 0.48083242059145676\n",
      "F1 Score: 0.48629994115132397\n",
      "Classification Report:\n"
     ]
    },
    {
     "data": {
      "text/html": [
       "<style type=\"text/css\">\n",
       "#T_d04e1 th {\n",
       "  font-size: 12pt;\n",
       "  text-align: center;\n",
       "}\n",
       "#T_d04e1 td {\n",
       "  text-align: center;\n",
       "}\n",
       "</style>\n",
       "<table id=\"T_d04e1\">\n",
       "  <thead>\n",
       "    <tr>\n",
       "      <th class=\"blank level0\" >&nbsp;</th>\n",
       "      <th id=\"T_d04e1_level0_col0\" class=\"col_heading level0 col0\" >precision</th>\n",
       "      <th id=\"T_d04e1_level0_col1\" class=\"col_heading level0 col1\" >recall</th>\n",
       "      <th id=\"T_d04e1_level0_col2\" class=\"col_heading level0 col2\" >f1-score</th>\n",
       "      <th id=\"T_d04e1_level0_col3\" class=\"col_heading level0 col3\" >support</th>\n",
       "    </tr>\n",
       "  </thead>\n",
       "  <tbody>\n",
       "    <tr>\n",
       "      <th id=\"T_d04e1_level0_row0\" class=\"row_heading level0 row0\" >D</th>\n",
       "      <td id=\"T_d04e1_row0_col0\" class=\"data row0 col0\" >0.289474</td>\n",
       "      <td id=\"T_d04e1_row0_col1\" class=\"data row0 col1\" >0.347630</td>\n",
       "      <td id=\"T_d04e1_row0_col2\" class=\"data row0 col2\" >0.315897</td>\n",
       "      <td id=\"T_d04e1_row0_col3\" class=\"data row0 col3\" >886.000000</td>\n",
       "    </tr>\n",
       "    <tr>\n",
       "      <th id=\"T_d04e1_level0_row1\" class=\"row_heading level0 row1\" >L</th>\n",
       "      <td id=\"T_d04e1_row1_col0\" class=\"data row1 col0\" >0.570968</td>\n",
       "      <td id=\"T_d04e1_row1_col1\" class=\"data row1 col1\" >0.511931</td>\n",
       "      <td id=\"T_d04e1_row1_col2\" class=\"data row1 col2\" >0.539840</td>\n",
       "      <td id=\"T_d04e1_row1_col3\" class=\"data row1 col3\" >1383.000000</td>\n",
       "    </tr>\n",
       "    <tr>\n",
       "      <th id=\"T_d04e1_level0_row2\" class=\"row_heading level0 row2\" >W</th>\n",
       "      <td id=\"T_d04e1_row2_col0\" class=\"data row2 col0\" >0.548961</td>\n",
       "      <td id=\"T_d04e1_row2_col1\" class=\"data row2 col1\" >0.535069</td>\n",
       "      <td id=\"T_d04e1_row2_col2\" class=\"data row2 col2\" >0.541926</td>\n",
       "      <td id=\"T_d04e1_row2_col3\" class=\"data row2 col3\" >1383.000000</td>\n",
       "    </tr>\n",
       "    <tr>\n",
       "      <th id=\"T_d04e1_level0_row3\" class=\"row_heading level0 row3\" >accuracy</th>\n",
       "      <td id=\"T_d04e1_row3_col0\" class=\"data row3 col0\" >0.480832</td>\n",
       "      <td id=\"T_d04e1_row3_col1\" class=\"data row3 col1\" >0.480832</td>\n",
       "      <td id=\"T_d04e1_row3_col2\" class=\"data row3 col2\" >0.480832</td>\n",
       "      <td id=\"T_d04e1_row3_col3\" class=\"data row3 col3\" >0.480832</td>\n",
       "    </tr>\n",
       "    <tr>\n",
       "      <th id=\"T_d04e1_level0_row4\" class=\"row_heading level0 row4\" >macro avg</th>\n",
       "      <td id=\"T_d04e1_row4_col0\" class=\"data row4 col0\" >0.469801</td>\n",
       "      <td id=\"T_d04e1_row4_col1\" class=\"data row4 col1\" >0.464876</td>\n",
       "      <td id=\"T_d04e1_row4_col2\" class=\"data row4 col2\" >0.465888</td>\n",
       "      <td id=\"T_d04e1_row4_col3\" class=\"data row4 col3\" >3652.000000</td>\n",
       "    </tr>\n",
       "    <tr>\n",
       "      <th id=\"T_d04e1_level0_row5\" class=\"row_heading level0 row5\" >weighted avg</th>\n",
       "      <td id=\"T_d04e1_row5_col0\" class=\"data row5 col0\" >0.494342</td>\n",
       "      <td id=\"T_d04e1_row5_col1\" class=\"data row5 col1\" >0.480832</td>\n",
       "      <td id=\"T_d04e1_row5_col2\" class=\"data row5 col2\" >0.486300</td>\n",
       "      <td id=\"T_d04e1_row5_col3\" class=\"data row5 col3\" >3652.000000</td>\n",
       "    </tr>\n",
       "  </tbody>\n",
       "</table>\n"
      ],
      "text/plain": [
       "<pandas.io.formats.style.Styler at 0x7f4e1031dae0>"
      ]
     },
     "metadata": {},
     "output_type": "display_data"
    },
    {
     "data": {
      "image/png": "[encoded data removed]",
      "text/plain": [
       "<Figure size 500x300 with 2 Axes>"
      ]
     },
     "metadata": {},
     "output_type": "display_data"
    }
   ],
   "source": [
    "def print_model_results(actual, predicted):\n",
    "    accuracy = accuracy_score(actual, predicted)\n",
    "    precision = precision_score(actual, predicted, average='weighted', zero_division=0)\n",
    "    recall = recall_score(actual, predicted, average='weighted', zero_division=0)\n",
    "    f1 = f1_score(actual, predicted, average='weighted', zero_division=0)\n",
    "    print(\"Accuracy:\", accuracy)\n",
    "    print(\"Precision:\", precision)\n",
    "    print(\"Recall:\", recall)\n",
    "    print(\"F1 Score:\", f1)\n",
    "\n",
    "    report = classification_report(actual, predicted, target_names=['D', 'L', 'W'], zero_division=0, output_dict=True)\n",
    "    report_df = pd.DataFrame(report).transpose()\n",
    "    styled_df = report_df.style.set_table_styles([\n",
    "        {'selector': 'th', 'props': [('font-size', '12pt'), ('text-align', 'center')]},\n",
    "        {'selector': 'td', 'props': [('text-align', 'center')]}\n",
    "    ])\n",
    "    print(\"Classification Report:\")\n",
    "    display(styled_df)\n",
    "\n",
    "    conf_matrix = confusion_matrix(actual, predicted, labels=['D', 'L', 'W'])\n",
    "\n",
    "    fig, ax = plt.subplots(figsize=(5, 3)) \n",
    "    sns.heatmap(conf_matrix, annot=True, fmt='d', cmap='Blues', ax=ax,\n",
    "                xticklabels=['D', 'L', 'W'], yticklabels=['D', 'L', 'W'])\n",
    "\n",
    "    # Labels, title, and ticks\n",
    "    label_font = {'size':'14'}\n",
    "    ax.set_xlabel('Predicted labels', fontdict=label_font)\n",
    "    ax.set_ylabel('True labels', fontdict=label_font)\n",
    "    ax.set_title('Confusion Matrix', fontdict={'size':'16'}) \n",
    "    ax.tick_params(axis='both', which='major', labelsize=12)\n",
    "\n",
    "    lstm_metrics_df = pd.DataFrame({\n",
    "        \"Accuracy\": accuracy,\n",
    "        \"Precision\": precision,\n",
    "        \"Recall\": recall,\n",
    "        \"F1 Score\": f1\n",
    "    }, index=pd.Index(['LSTM']))\n",
    "    lstm_metrics_df.to_csv('data/machine_learning/lstm_metrics.csv')\n",
    "\n",
    "    plt.show()\n",
    "\n",
    "print_model_results(comparison_df['actual_outcome'], comparison_df['predicted_outcome'])"
   ]
  },
  {
   "cell_type": "markdown",
   "metadata": {},
   "source": [
    "### Now we try to predict results for 2023-24 (current season)"
   ]
  },
  {
   "cell_type": "code",
   "execution_count": 25,
   "metadata": {},
   "outputs": [],
   "source": [
    "prediction_df = pd.read_csv('data/machine_learning/2023_predict.csv')\n",
    "p_scaled_data = scaler.transform(prediction_df[features_to_scale])\n",
    "p_scaled_df = pd.DataFrame(p_scaled_data, columns=features_to_scale)\n",
    "p_unscaled_df = prediction_df.drop(columns=features_to_scale)\n",
    "p_final_df = pd.concat([p_scaled_df, p_unscaled_df], axis=1)"
   ]
  },
  {
   "cell_type": "code",
   "execution_count": 26,
   "metadata": {},
   "outputs": [],
   "source": [
    "p_sequences = create_sequences(p_final_df)\n",
    "p_test, p_teams = process_data(p_sequences, train=False)"
   ]
  },
  {
   "cell_type": "code",
   "execution_count": 27,
   "metadata": {},
   "outputs": [
    {
     "name": "stdout",
     "output_type": "stream",
     "text": [
      "110/110 [==============================] - 0s 4ms/step\n"
     ]
    }
   ],
   "source": [
    "p_pred_scaled = model.predict(p_test)\n",
    "p_pred = scaler_y.inverse_transform(p_pred_scaled)\n",
    "p_predictions = np.rint(p_pred).astype(int)"
   ]
  },
  {
   "cell_type": "code",
   "execution_count": 28,
   "metadata": {},
   "outputs": [
    {
     "data": {
      "text/html": [
       "<div>\n",
       "<style scoped>\n",
       "    .dataframe tbody tr th:only-of-type {\n",
       "        vertical-align: middle;\n",
       "    }\n",
       "\n",
       "    .dataframe tbody tr th {\n",
       "        vertical-align: top;\n",
       "    }\n",
       "\n",
       "    .dataframe thead th {\n",
       "        text-align: right;\n",
       "    }\n",
       "</style>\n",
       "<table border=\"1\" class=\"dataframe\">\n",
       "  <thead>\n",
       "    <tr style=\"text-align: right;\">\n",
       "      <th></th>\n",
       "      <th>team</th>\n",
       "      <th>opponent</th>\n",
       "      <th>is_home</th>\n",
       "      <th>country</th>\n",
       "      <th>season_start_year</th>\n",
       "      <th>predicted_score</th>\n",
       "      <th>predicted_opponent_score</th>\n",
       "      <th>predicted_outcome</th>\n",
       "    </tr>\n",
       "  </thead>\n",
       "  <tbody>\n",
       "    <tr>\n",
       "      <th>3479</th>\n",
       "      <td>Wolves</td>\n",
       "      <td>Fulham</td>\n",
       "      <td>1</td>\n",
       "      <td>ENG</td>\n",
       "      <td>2023</td>\n",
       "      <td>2</td>\n",
       "      <td>1</td>\n",
       "      <td>W</td>\n",
       "    </tr>\n",
       "    <tr>\n",
       "      <th>2335</th>\n",
       "      <td>Montpellier</td>\n",
       "      <td>Lens</td>\n",
       "      <td>0</td>\n",
       "      <td>FRA</td>\n",
       "      <td>2023</td>\n",
       "      <td>1</td>\n",
       "      <td>2</td>\n",
       "      <td>L</td>\n",
       "    </tr>\n",
       "    <tr>\n",
       "      <th>542</th>\n",
       "      <td>Betis</td>\n",
       "      <td>Almeria</td>\n",
       "      <td>0</td>\n",
       "      <td>SPA</td>\n",
       "      <td>2023</td>\n",
       "      <td>1</td>\n",
       "      <td>1</td>\n",
       "      <td>D</td>\n",
       "    </tr>\n",
       "    <tr>\n",
       "      <th>1597</th>\n",
       "      <td>Hoffenheim</td>\n",
       "      <td>RB Leipzig</td>\n",
       "      <td>1</td>\n",
       "      <td>GER</td>\n",
       "      <td>2023</td>\n",
       "      <td>1</td>\n",
       "      <td>2</td>\n",
       "      <td>L</td>\n",
       "    </tr>\n",
       "    <tr>\n",
       "      <th>1773</th>\n",
       "      <td>Le Havre</td>\n",
       "      <td>Monaco</td>\n",
       "      <td>1</td>\n",
       "      <td>FRA</td>\n",
       "      <td>2023</td>\n",
       "      <td>1</td>\n",
       "      <td>2</td>\n",
       "      <td>L</td>\n",
       "    </tr>\n",
       "    <tr>\n",
       "      <th>1079</th>\n",
       "      <td>Dortmund</td>\n",
       "      <td>Bochum</td>\n",
       "      <td>1</td>\n",
       "      <td>GER</td>\n",
       "      <td>2023</td>\n",
       "      <td>2</td>\n",
       "      <td>1</td>\n",
       "      <td>W</td>\n",
       "    </tr>\n",
       "    <tr>\n",
       "      <th>1762</th>\n",
       "      <td>Lazio</td>\n",
       "      <td>Fiorentina</td>\n",
       "      <td>0</td>\n",
       "      <td>ITA</td>\n",
       "      <td>2023</td>\n",
       "      <td>1</td>\n",
       "      <td>2</td>\n",
       "      <td>L</td>\n",
       "    </tr>\n",
       "    <tr>\n",
       "      <th>1631</th>\n",
       "      <td>Inter</td>\n",
       "      <td>Empoli</td>\n",
       "      <td>1</td>\n",
       "      <td>ITA</td>\n",
       "      <td>2023</td>\n",
       "      <td>2</td>\n",
       "      <td>1</td>\n",
       "      <td>W</td>\n",
       "    </tr>\n",
       "    <tr>\n",
       "      <th>1356</th>\n",
       "      <td>Frosinone</td>\n",
       "      <td>Empoli</td>\n",
       "      <td>0</td>\n",
       "      <td>ITA</td>\n",
       "      <td>2023</td>\n",
       "      <td>1</td>\n",
       "      <td>1</td>\n",
       "      <td>D</td>\n",
       "    </tr>\n",
       "    <tr>\n",
       "      <th>333</th>\n",
       "      <td>Atl. Madrid</td>\n",
       "      <td>Real Madrid</td>\n",
       "      <td>0</td>\n",
       "      <td>SPA</td>\n",
       "      <td>2023</td>\n",
       "      <td>1</td>\n",
       "      <td>2</td>\n",
       "      <td>L</td>\n",
       "    </tr>\n",
       "  </tbody>\n",
       "</table>\n",
       "</div>"
      ],
      "text/plain": [
       "             team     opponent  is_home country  season_start_year  \\\n",
       "3479       Wolves       Fulham        1     ENG               2023   \n",
       "2335  Montpellier         Lens        0     FRA               2023   \n",
       "542         Betis      Almeria        0     SPA               2023   \n",
       "1597   Hoffenheim   RB Leipzig        1     GER               2023   \n",
       "1773     Le Havre       Monaco        1     FRA               2023   \n",
       "1079     Dortmund       Bochum        1     GER               2023   \n",
       "1762        Lazio   Fiorentina        0     ITA               2023   \n",
       "1631        Inter       Empoli        1     ITA               2023   \n",
       "1356    Frosinone       Empoli        0     ITA               2023   \n",
       "333   Atl. Madrid  Real Madrid        0     SPA               2023   \n",
       "\n",
       "      predicted_score  predicted_opponent_score predicted_outcome  \n",
       "3479                2                         1                 W  \n",
       "2335                1                         2                 L  \n",
       "542                 1                         1                 D  \n",
       "1597                1                         2                 L  \n",
       "1773                1                         2                 L  \n",
       "1079                2                         1                 W  \n",
       "1762                1                         2                 L  \n",
       "1631                2                         1                 W  \n",
       "1356                1                         1                 D  \n",
       "333                 1                         2                 L  "
      ]
     },
     "metadata": {},
     "output_type": "display_data"
    }
   ],
   "source": [
    "p_results = return_results(p_predictions, p_teams, train=False)\n",
    "\n",
    "# Assuming y_pred and y_test are numpy arrays of the scores\n",
    "p_comparison_df = pd.DataFrame(p_results)\n",
    "\n",
    "# Sample for inspection\n",
    "display(p_comparison_df.sample(10))"
   ]
  },
  {
   "cell_type": "code",
   "execution_count": 29,
   "metadata": {},
   "outputs": [],
   "source": [
    "predictions_df = p_comparison_df[['country', 'team', 'opponent', 'is_home', 'predicted_outcome']]\n",
    "predictions_df = predictions_df.rename(columns={'predicted_outcome': 'predicted_result'})\n",
    "predictions_df.to_csv(f\"./data/machine_learning/predictions/LSTM.csv\", index=False)"
   ]
  }
 ],
 "metadata": {
  "kernelspec": {
   "display_name": "sc1015",
   "language": "python",
   "name": "python3"
  },
  "language_info": {
   "codemirror_mode": {
    "name": "ipython",
    "version": 3
   },
   "file_extension": ".py",
   "mimetype": "text/x-python",
   "name": "python",
   "nbconvert_exporter": "python",
   "pygments_lexer": "ipython3",
   "version": "3.10.13"
  }
 },
 "nbformat": 4,
 "nbformat_minor": 2
}

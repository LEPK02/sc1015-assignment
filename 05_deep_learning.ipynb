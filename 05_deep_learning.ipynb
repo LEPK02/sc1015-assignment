{
 "cells": [
  {
   "cell_type": "markdown",
   "metadata": {},
   "source": [
    "# LSTM"
   ]
  },
  {
   "cell_type": "markdown",
   "metadata": {},
   "source": [
    "https://www.sciencedirect.com/science/article/pii/S2352864821000602\n",
    "\n",
    "\"The prediction of sports performance should adopt nonlinear prediction because there are many factors affecting sports competitions. Taking football games as an example, the stadium will affect the mentality of the players, and a home match is more conducive to the players' performance. The players’ physical and psychological quality, the game tactics, weather factors and even some unexpected accidental factors will also affect the result of the game. Therefore, the linear prediction method cannot consider these factors, but the nonlinear method can.\""
   ]
  },
  {
   "cell_type": "code",
   "execution_count": 1,
   "metadata": {},
   "outputs": [
    {
     "name": "stderr",
     "output_type": "stream",
     "text": [
      "2024-04-20 08:02:10.239424: I tensorflow/core/util/port.cc:113] oneDNN custom operations are on. You may see slightly different numerical results due to floating-point round-off errors from different computation orders. To turn them off, set the environment variable `TF_ENABLE_ONEDNN_OPTS=0`.\n",
      "2024-04-20 08:02:10.350973: E external/local_xla/xla/stream_executor/cuda/cuda_dnn.cc:9261] Unable to register cuDNN factory: Attempting to register factory for plugin cuDNN when one has already been registered\n",
      "2024-04-20 08:02:10.351023: E external/local_xla/xla/stream_executor/cuda/cuda_fft.cc:607] Unable to register cuFFT factory: Attempting to register factory for plugin cuFFT when one has already been registered\n",
      "2024-04-20 08:02:10.361963: E external/local_xla/xla/stream_executor/cuda/cuda_blas.cc:1515] Unable to register cuBLAS factory: Attempting to register factory for plugin cuBLAS when one has already been registered\n",
      "2024-04-20 08:02:10.391332: I tensorflow/core/platform/cpu_feature_guard.cc:182] This TensorFlow binary is optimized to use available CPU instructions in performance-critical operations.\n",
      "To enable the following instructions: SSE4.1 SSE4.2 AVX AVX2 AVX_VNNI FMA, in other operations, rebuild TensorFlow with the appropriate compiler flags.\n"
     ]
    }
   ],
   "source": [
    "import datetime\n",
    "import numpy as np\n",
    "import pandas as pd\n",
    "import seaborn as sns\n",
    "import matplotlib.pyplot as plt\n",
    "import pickle\n",
    "import json\n",
    "from constants.constants import *\n",
    "\n",
    "from sklearn.preprocessing import StandardScaler\n",
    "from sklearn.metrics import accuracy_score, precision_score, recall_score, f1_score, confusion_matrix, classification_report\n",
    "\n",
    "\n",
    "from keras.models import Sequential\n",
    "from keras.layers import LSTM, Dense, Dropout\n",
    "from tensorflow.keras.regularizers import l1_l2\n",
    "from tensorflow.keras.callbacks import EarlyStopping\n",
    "from tensorflow.keras.utils import plot_model\n",
    "\n",
    "from tensorflow.keras.callbacks import TensorBoard"
   ]
  },
  {
   "cell_type": "code",
   "execution_count": 2,
   "metadata": {},
   "outputs": [],
   "source": [
    "with open(BORUTA_FEATURES_PATH, 'r') as f:\n",
    "    selected_features = json.load(f)"
   ]
  },
  {
   "cell_type": "code",
   "execution_count": 3,
   "metadata": {},
   "outputs": [],
   "source": [
    "label_cols = ['score', 'opponent_score']\n",
    "\n",
    "additional_cols = ['team', 'opponent', 'country', 'season_start_year']\n",
    "\n",
    "selected_features = [f for f in selected_features if f not in additional_cols + label_cols]\n",
    "\n",
    "required_cols = selected_features + additional_cols + label_cols"
   ]
  },
  {
   "cell_type": "code",
   "execution_count": 4,
   "metadata": {},
   "outputs": [
    {
     "name": "stdout",
     "output_type": "stream",
     "text": [
      "20\n"
     ]
    }
   ],
   "source": [
    "N_FEATURES = len(selected_features)\n",
    "print(N_FEATURES)"
   ]
  },
  {
   "cell_type": "code",
   "execution_count": 5,
   "metadata": {},
   "outputs": [
    {
     "name": "stdout",
     "output_type": "stream",
     "text": [
      "True\n"
     ]
    }
   ],
   "source": [
    "print('season_start_year' in required_cols)"
   ]
  },
  {
   "cell_type": "code",
   "execution_count": 6,
   "metadata": {},
   "outputs": [],
   "source": [
    "SEQUENCE_LENGTH = 5\n",
    "\n",
    "dfs = []\n",
    "\n",
    "for year in range(2019, 2023):\n",
    "    df = pd.read_csv(f'./data/machine_learning/scoreline/{str(year)}.csv')\n",
    "    df = df[required_cols]\n",
    "    dfs.append(df)\n",
    "\n",
    "main_df = pd.concat(dfs, ignore_index=True)"
   ]
  },
  {
   "cell_type": "code",
   "execution_count": 7,
   "metadata": {},
   "outputs": [],
   "source": [
    "scaler = StandardScaler()\n",
    "scaler_y = StandardScaler()\n",
    "\n",
    "features_to_scale = [f for f in selected_features if f != 'is_home']\n",
    "\n",
    "scaled_data = scaler.fit_transform(main_df[features_to_scale])\n",
    "scaled_df = pd.DataFrame(scaled_data, columns=features_to_scale)\n",
    "scaled_y = scaler_y.fit_transform(main_df[label_cols])\n",
    "scaled_y_df = pd.DataFrame(scaled_y, columns=label_cols)\n",
    "unscaled_df = main_df.drop(columns=features_to_scale + label_cols)\n",
    "final_df = pd.concat([scaled_df, scaled_y_df, unscaled_df], axis=1)"
   ]
  },
  {
   "cell_type": "code",
   "execution_count": 8,
   "metadata": {},
   "outputs": [],
   "source": [
    "def create_sequences(df):\n",
    "    sequences = []\n",
    "    for _, group in df.groupby(['season_start_year', 'team']):\n",
    "        for i in range(len(group)):\n",
    "            start_index = max(0, i - SEQUENCE_LENGTH + 1)\n",
    "            seq = group.iloc[start_index:i+1].copy()\n",
    "            if len(seq) < SEQUENCE_LENGTH:\n",
    "                padding_length = SEQUENCE_LENGTH - len(seq)\n",
    "                padding_data = pd.DataFrame([[0] * len(seq.columns) for _ in range(padding_length)], columns=seq.columns)\n",
    "                seq = pd.concat([padding_data, seq], ignore_index=True)\n",
    "            sequences.append(seq)\n",
    "    return sequences\n",
    "\n",
    "def process_data(sequences, train=True):\n",
    "    X = []\n",
    "    y = []\n",
    "    teams = []\n",
    "    for sequence in sequences:\n",
    "        team_info = sequence[['team', 'opponent', 'country', 'season_start_year', 'is_home']].iloc[-1]\n",
    "        features = sequence[selected_features].values\n",
    "        if train:\n",
    "            labels = sequence[label_cols].values[-1]\n",
    "            y.append(labels)\n",
    "        X.append(features)\n",
    "        teams.append(team_info.to_dict())\n",
    "    if train:\n",
    "        return np.array(X, dtype='float32'), np.array(y), np.array(teams)\n",
    "    else:\n",
    "        return np.array(X, dtype='float32'), np.array(teams)"
   ]
  },
  {
   "cell_type": "code",
   "execution_count": 9,
   "metadata": {},
   "outputs": [],
   "source": [
    "train_df = final_df[final_df['season_start_year'] < 2022]\n",
    "test_df = final_df[final_df['season_start_year'] >= 2022]\n",
    "\n",
    "train_sequences = create_sequences(train_df)\n",
    "test_sequences = create_sequences(test_df)\n",
    "\n",
    "X_train, y_train, teams_train = process_data(train_sequences)\n",
    "X_test, y_test, teams_test = process_data(test_sequences)"
   ]
  },
  {
   "cell_type": "code",
   "execution_count": 11,
   "metadata": {},
   "outputs": [
    {
     "name": "stdout",
     "output_type": "stream",
     "text": [
      "WARNING:tensorflow:Layer lstm will not use cuDNN kernels since it doesn't meet the criteria. It will use a generic GPU kernel as fallback when running on GPU.\n"
     ]
    },
    {
     "name": "stderr",
     "output_type": "stream",
     "text": [
      "2024-04-20 08:02:29.329159: I external/local_xla/xla/stream_executor/cuda/cuda_executor.cc:887] could not open file to read NUMA node: /sys/bus/pci/devices/0000:01:00.0/numa_node\n",
      "Your kernel may have been built without NUMA support.\n",
      "2024-04-20 08:02:29.548325: I external/local_xla/xla/stream_executor/cuda/cuda_executor.cc:887] could not open file to read NUMA node: /sys/bus/pci/devices/0000:01:00.0/numa_node\n",
      "Your kernel may have been built without NUMA support.\n",
      "2024-04-20 08:02:29.548403: I external/local_xla/xla/stream_executor/cuda/cuda_executor.cc:887] could not open file to read NUMA node: /sys/bus/pci/devices/0000:01:00.0/numa_node\n",
      "Your kernel may have been built without NUMA support.\n",
      "2024-04-20 08:02:29.552791: I external/local_xla/xla/stream_executor/cuda/cuda_executor.cc:887] could not open file to read NUMA node: /sys/bus/pci/devices/0000:01:00.0/numa_node\n",
      "Your kernel may have been built without NUMA support.\n",
      "2024-04-20 08:02:29.552866: I external/local_xla/xla/stream_executor/cuda/cuda_executor.cc:887] could not open file to read NUMA node: /sys/bus/pci/devices/0000:01:00.0/numa_node\n",
      "Your kernel may have been built without NUMA support.\n",
      "2024-04-20 08:02:29.552896: I external/local_xla/xla/stream_executor/cuda/cuda_executor.cc:887] could not open file to read NUMA node: /sys/bus/pci/devices/0000:01:00.0/numa_node\n",
      "Your kernel may have been built without NUMA support.\n",
      "2024-04-20 08:02:31.957976: I external/local_xla/xla/stream_executor/cuda/cuda_executor.cc:887] could not open file to read NUMA node: /sys/bus/pci/devices/0000:01:00.0/numa_node\n",
      "Your kernel may have been built without NUMA support.\n",
      "2024-04-20 08:02:31.958220: I external/local_xla/xla/stream_executor/cuda/cuda_executor.cc:887] could not open file to read NUMA node: /sys/bus/pci/devices/0000:01:00.0/numa_node\n",
      "Your kernel may have been built without NUMA support.\n",
      "2024-04-20 08:02:31.958238: I tensorflow/core/common_runtime/gpu/gpu_device.cc:2022] Could not identify NUMA node of platform GPU id 0, defaulting to 0.  Your kernel may not have been built with NUMA support.\n",
      "2024-04-20 08:02:31.958408: I external/local_xla/xla/stream_executor/cuda/cuda_executor.cc:887] could not open file to read NUMA node: /sys/bus/pci/devices/0000:01:00.0/numa_node\n",
      "Your kernel may have been built without NUMA support.\n",
      "2024-04-20 08:02:31.959140: I tensorflow/core/common_runtime/gpu/gpu_device.cc:1929] Created device /job:localhost/replica:0/task:0/device:GPU:0 with 3421 MB memory:  -> device: 0, name: NVIDIA GeForce RTX 3060 Laptop GPU, pci bus id: 0000:01:00.0, compute capability: 8.6\n"
     ]
    }
   ],
   "source": [
    "model = Sequential()\n",
    "model.add(LSTM(50, activation='relu', input_shape=(SEQUENCE_LENGTH, N_FEATURES), \n",
    "               kernel_regularizer=l1_l2(l1=0.01, l2=0.01), \n",
    "               recurrent_regularizer=l1_l2(l1=0.01, l2=0.01)))\n",
    "model.add(Dense(2, activation='linear', kernel_regularizer=l1_l2(l1=0.01, l2=0.01)))\n",
    "model.compile(optimizer='adam', loss='mse')"
   ]
  },
  {
   "cell_type": "code",
   "execution_count": 12,
   "metadata": {},
   "outputs": [
    {
     "name": "stdout",
     "output_type": "stream",
     "text": [
      "Model: \"sequential\"\n",
      "_________________________________________________________________\n",
      " Layer (type)                Output Shape              Param #   \n",
      "=================================================================\n",
      " lstm (LSTM)                 (None, 50)                14200     \n",
      "                                                                 \n",
      " dense (Dense)               (None, 2)                 102       \n",
      "                                                                 \n",
      "=================================================================\n",
      "Total params: 14302 (55.87 KB)\n",
      "Trainable params: 14302 (55.87 KB)\n",
      "Non-trainable params: 0 (0.00 Byte)\n",
      "_________________________________________________________________\n"
     ]
    }
   ],
   "source": [
    "model.summary()"
   ]
  },
  {
   "cell_type": "code",
   "execution_count": 13,
   "metadata": {},
   "outputs": [
    {
     "data": {
      "image/png": "[encoded data removed]",
      "text/plain": [
       "<IPython.core.display.Image object>"
      ]
     },
     "execution_count": 13,
     "metadata": {},
     "output_type": "execute_result"
    }
   ],
   "source": [
    "# This saves a PNG image of your model architecture to a file\n",
    "plot_model(model, to_file='data/machine_learning/img/lstm_model.png', show_shapes=True, show_layer_names=True)"
   ]
  },
  {
   "cell_type": "code",
   "execution_count": 14,
   "metadata": {},
   "outputs": [],
   "source": [
    "# Create a logs directory with a timestamp to organize training runs\n",
    "log_dir = \"logs/fit/\" + datetime.datetime.now().strftime(\"%Y%m%d-%H%M%S\")\n",
    "tensorboard_callback = TensorBoard(log_dir=log_dir, histogram_freq=1)"
   ]
  },
  {
   "cell_type": "code",
   "execution_count": 15,
   "metadata": {},
   "outputs": [
    {
     "name": "stdout",
     "output_type": "stream",
     "text": [
      "Epoch 1/100\n"
     ]
    },
    {
     "name": "stderr",
     "output_type": "stream",
     "text": [
      "2024-04-20 08:02:36.264730: I external/local_xla/xla/service/service.cc:168] XLA service 0x7fd184033200 initialized for platform CUDA (this does not guarantee that XLA will be used). Devices:\n",
      "2024-04-20 08:02:36.264782: I external/local_xla/xla/service/service.cc:176]   StreamExecutor device (0): NVIDIA GeForce RTX 3060 Laptop GPU, Compute Capability 8.6\n",
      "2024-04-20 08:02:36.281702: I tensorflow/compiler/mlir/tensorflow/utils/dump_mlir_util.cc:269] disabling MLIR crash reproducer, set env var `MLIR_CRASH_REPRODUCER_DIRECTORY` to enable.\n",
      "2024-04-20 08:02:36.675714: I external/local_xla/xla/stream_executor/cuda/cuda_dnn.cc:454] Loaded cuDNN version 8800\n",
      "WARNING: All log messages before absl::InitializeLog() is called are written to STDERR\n",
      "I0000 00:00:1713571356.783218  504763 device_compiler.h:186] Compiled cluster using XLA!  This line is logged at most once for the lifetime of the process.\n"
     ]
    },
    {
     "name": "stdout",
     "output_type": "stream",
     "text": [
      "269/269 [==============================] - 9s 19ms/step - loss: 3.0706 - val_loss: 1.1534\n",
      "Epoch 2/100\n",
      "269/269 [==============================] - 5s 17ms/step - loss: 1.0303 - val_loss: 1.0767\n",
      "Epoch 3/100\n",
      "269/269 [==============================] - 4s 17ms/step - loss: 0.9964 - val_loss: 1.0586\n",
      "Epoch 4/100\n",
      "269/269 [==============================] - 5s 17ms/step - loss: 0.9863 - val_loss: 1.0479\n",
      "Epoch 5/100\n",
      "269/269 [==============================] - 4s 16ms/step - loss: 0.9802 - val_loss: 1.0419\n",
      "Epoch 6/100\n",
      "269/269 [==============================] - 5s 17ms/step - loss: 0.9753 - val_loss: 1.0341\n",
      "Epoch 7/100\n",
      "269/269 [==============================] - 5s 17ms/step - loss: 0.9722 - val_loss: 1.0306\n",
      "Epoch 8/100\n",
      "269/269 [==============================] - 5s 18ms/step - loss: 0.9703 - val_loss: 1.0257\n",
      "Epoch 9/100\n",
      "269/269 [==============================] - 4s 16ms/step - loss: 0.9678 - val_loss: 1.0228\n",
      "Epoch 10/100\n",
      "269/269 [==============================] - 5s 18ms/step - loss: 0.9668 - val_loss: 1.0236\n",
      "Epoch 11/100\n",
      "269/269 [==============================] - 5s 17ms/step - loss: 0.9650 - val_loss: 1.0189\n",
      "Epoch 12/100\n",
      "269/269 [==============================] - 5s 17ms/step - loss: 0.9633 - val_loss: 1.0188\n",
      "Epoch 13/100\n",
      "269/269 [==============================] - 5s 17ms/step - loss: 0.9609 - val_loss: 1.0162\n",
      "Epoch 14/100\n",
      "269/269 [==============================] - 4s 16ms/step - loss: 0.9604 - val_loss: 1.0133\n",
      "Epoch 15/100\n",
      "269/269 [==============================] - 5s 17ms/step - loss: 0.9584 - val_loss: 1.0123\n",
      "Epoch 16/100\n",
      "269/269 [==============================] - 4s 16ms/step - loss: 0.9570 - val_loss: 1.0095\n",
      "Epoch 17/100\n",
      "269/269 [==============================] - 4s 17ms/step - loss: 0.9552 - val_loss: 1.0073\n",
      "Epoch 18/100\n",
      "269/269 [==============================] - 4s 16ms/step - loss: 0.9529 - val_loss: 1.0027\n",
      "Epoch 19/100\n",
      "269/269 [==============================] - 5s 17ms/step - loss: 0.9520 - val_loss: 1.0031\n",
      "Epoch 20/100\n",
      "269/269 [==============================] - 4s 17ms/step - loss: 0.9511 - val_loss: 1.0048\n",
      "Epoch 21/100\n",
      "269/269 [==============================] - 5s 18ms/step - loss: 0.9491 - val_loss: 1.0012\n",
      "Epoch 22/100\n",
      "269/269 [==============================] - 5s 19ms/step - loss: 0.9482 - val_loss: 0.9972\n",
      "Epoch 23/100\n",
      "269/269 [==============================] - 5s 17ms/step - loss: 0.9473 - val_loss: 0.9958\n",
      "Epoch 24/100\n",
      "269/269 [==============================] - 5s 17ms/step - loss: 0.9471 - val_loss: 0.9995\n",
      "Epoch 25/100\n",
      "269/269 [==============================] - 5s 17ms/step - loss: 0.9459 - val_loss: 0.9990\n",
      "Epoch 26/100\n",
      "269/269 [==============================] - 5s 17ms/step - loss: 0.9455 - val_loss: 0.9978\n",
      "Epoch 27/100\n",
      "269/269 [==============================] - 5s 17ms/step - loss: 0.9449 - val_loss: 0.9960\n",
      "Epoch 28/100\n",
      "269/269 [==============================] - 5s 17ms/step - loss: 0.9446 - val_loss: 0.9972\n",
      "Epoch 29/100\n",
      "269/269 [==============================] - 5s 17ms/step - loss: 0.9450 - val_loss: 0.9954\n",
      "Epoch 30/100\n",
      "269/269 [==============================] - 4s 16ms/step - loss: 0.9432 - val_loss: 0.9946\n",
      "Epoch 31/100\n",
      "269/269 [==============================] - 5s 17ms/step - loss: 0.9432 - val_loss: 0.9926\n",
      "Epoch 32/100\n",
      "269/269 [==============================] - 4s 16ms/step - loss: 0.9431 - val_loss: 0.9923\n",
      "Epoch 33/100\n",
      "269/269 [==============================] - 4s 16ms/step - loss: 0.9420 - val_loss: 0.9947\n",
      "Epoch 34/100\n",
      "269/269 [==============================] - 4s 16ms/step - loss: 0.9416 - val_loss: 0.9923\n",
      "Epoch 35/100\n",
      "269/269 [==============================] - 4s 17ms/step - loss: 0.9418 - val_loss: 0.9928\n",
      "Epoch 36/100\n",
      "269/269 [==============================] - 5s 17ms/step - loss: 0.9420 - val_loss: 0.9933\n",
      "Epoch 37/100\n",
      "269/269 [==============================] - 5s 18ms/step - loss: 0.9407 - val_loss: 0.9903\n",
      "Epoch 38/100\n",
      "269/269 [==============================] - 5s 17ms/step - loss: 0.9401 - val_loss: 0.9903\n",
      "Epoch 39/100\n",
      "269/269 [==============================] - 4s 16ms/step - loss: 0.9399 - val_loss: 0.9904\n",
      "Epoch 40/100\n",
      "269/269 [==============================] - 4s 17ms/step - loss: 0.9401 - val_loss: 0.9868\n",
      "Epoch 41/100\n",
      "269/269 [==============================] - 4s 16ms/step - loss: 0.9402 - val_loss: 0.9911\n",
      "Epoch 42/100\n",
      "269/269 [==============================] - 4s 16ms/step - loss: 0.9398 - val_loss: 0.9920\n",
      "Epoch 43/100\n",
      "269/269 [==============================] - 4s 17ms/step - loss: 0.9403 - val_loss: 0.9869\n",
      "Epoch 44/100\n",
      "269/269 [==============================] - 4s 16ms/step - loss: 0.9396 - val_loss: 0.9880\n",
      "Epoch 45/100\n",
      "269/269 [==============================] - 4s 17ms/step - loss: 0.9397 - val_loss: 0.9898\n",
      "Epoch 46/100\n",
      "269/269 [==============================] - 4s 17ms/step - loss: 0.9388 - val_loss: 0.9885\n",
      "Epoch 47/100\n",
      "269/269 [==============================] - 5s 17ms/step - loss: 0.9391 - val_loss: 0.9858\n",
      "Epoch 48/100\n",
      "269/269 [==============================] - 4s 16ms/step - loss: 0.9386 - val_loss: 0.9891\n",
      "Epoch 49/100\n",
      "269/269 [==============================] - 5s 18ms/step - loss: 0.9388 - val_loss: 0.9896\n",
      "Epoch 50/100\n",
      "269/269 [==============================] - 5s 17ms/step - loss: 0.9382 - val_loss: 0.9907\n",
      "Epoch 51/100\n",
      "269/269 [==============================] - 5s 18ms/step - loss: 0.9387 - val_loss: 0.9883\n",
      "Epoch 52/100\n",
      "269/269 [==============================] - 4s 16ms/step - loss: 0.9385 - val_loss: 0.9889\n",
      "Epoch 53/100\n",
      "269/269 [==============================] - 4s 16ms/step - loss: 0.9388 - val_loss: 0.9865\n",
      "Epoch 54/100\n",
      "269/269 [==============================] - 5s 17ms/step - loss: 0.9378 - val_loss: 0.9869\n",
      "Epoch 55/100\n",
      "269/269 [==============================] - 4s 16ms/step - loss: 0.9384 - val_loss: 0.9848\n",
      "Epoch 56/100\n",
      "269/269 [==============================] - 4s 16ms/step - loss: 0.9372 - val_loss: 0.9877\n",
      "Epoch 57/100\n",
      "269/269 [==============================] - 4s 16ms/step - loss: 0.9378 - val_loss: 0.9869\n",
      "Epoch 58/100\n",
      "269/269 [==============================] - 5s 17ms/step - loss: 0.9366 - val_loss: 0.9815\n",
      "Epoch 59/100\n",
      "269/269 [==============================] - 4s 17ms/step - loss: 0.9365 - val_loss: 0.9804\n",
      "Epoch 60/100\n",
      "269/269 [==============================] - 4s 16ms/step - loss: 0.9370 - val_loss: 0.9840\n",
      "Epoch 61/100\n",
      "269/269 [==============================] - 4s 16ms/step - loss: 0.9358 - val_loss: 0.9920\n",
      "Epoch 62/100\n",
      "269/269 [==============================] - 4s 16ms/step - loss: 0.9370 - val_loss: 0.9841\n",
      "Epoch 63/100\n",
      "269/269 [==============================] - 5s 17ms/step - loss: 0.9368 - val_loss: 0.9881\n",
      "Epoch 64/100\n",
      "269/269 [==============================] - 5s 17ms/step - loss: 0.9362 - val_loss: 0.9833\n",
      "Epoch 65/100\n",
      "269/269 [==============================] - 4s 17ms/step - loss: 0.9355 - val_loss: 0.9822\n",
      "Epoch 66/100\n",
      "269/269 [==============================] - 5s 17ms/step - loss: 0.9357 - val_loss: 0.9869\n",
      "Epoch 67/100\n",
      "269/269 [==============================] - 4s 16ms/step - loss: 0.9358 - val_loss: 0.9873\n",
      "Epoch 68/100\n",
      "269/269 [==============================] - 4s 17ms/step - loss: 0.9352 - val_loss: 0.9838\n",
      "Epoch 69/100\n",
      "269/269 [==============================] - 4s 16ms/step - loss: 0.9356 - val_loss: 0.9854\n"
     ]
    }
   ],
   "source": [
    "early_stopping = EarlyStopping(monitor='val_loss', patience=10, restore_best_weights=True)\n",
    "\n",
    "history = model.fit(X_train, y_train, epochs=100, validation_split=0.2, callbacks=[early_stopping, tensorboard_callback])"
   ]
  },
  {
   "cell_type": "code",
   "execution_count": 16,
   "metadata": {},
   "outputs": [],
   "source": [
    "# !tensorboard --logdir logs/fit --bind_all"
   ]
  },
  {
   "cell_type": "code",
   "execution_count": 17,
   "metadata": {},
   "outputs": [
    {
     "name": "stdout",
     "output_type": "stream",
     "text": [
      "115/115 [==============================] - 1s 3ms/step\n"
     ]
    }
   ],
   "source": [
    "y_pred_scaled = model.predict(X_test)\n",
    "y_pred = scaler_y.inverse_transform(y_pred_scaled)\n",
    "predictions = np.rint(y_pred).astype(int)"
   ]
  },
  {
   "cell_type": "code",
   "execution_count": 18,
   "metadata": {},
   "outputs": [],
   "source": [
    "actual_y_test = scaler_y.inverse_transform(y_test)"
   ]
  },
  {
   "cell_type": "code",
   "execution_count": 19,
   "metadata": {},
   "outputs": [
    {
     "data": {
      "text/plain": [
       "False"
      ]
     },
     "execution_count": 19,
     "metadata": {},
     "output_type": "execute_result"
    }
   ],
   "source": [
    "np.all(actual_y_test[:, 1] == 1)"
   ]
  },
  {
   "cell_type": "code",
   "execution_count": 20,
   "metadata": {},
   "outputs": [],
   "source": [
    "def return_results(predictions, teams_df, train=True):\n",
    "    results = []\n",
    "    for i, prediction in enumerate(predictions):\n",
    "        team_entry = teams_df[i]  # Assuming teams[i] is a Series with 'team', 'opponent', and 'country'\n",
    "        predicted_score = prediction[0]\n",
    "        predicted_opponent_score = prediction[1]\n",
    "        predicted_outcome = 'W' if predicted_score > predicted_opponent_score else 'L' if predicted_score < predicted_opponent_score else 'D'\n",
    "        \n",
    "        # Now add the correct dictionary to your results list\n",
    "        result = {\n",
    "            'team': team_entry['team'],\n",
    "            'opponent': team_entry['opponent'],\n",
    "            'is_home': team_entry['is_home'],\n",
    "            'country': team_entry['country'],\n",
    "            'season_start_year': team_entry['season_start_year'],\n",
    "            'predicted_score': predicted_score,\n",
    "            'predicted_opponent_score': predicted_opponent_score,\n",
    "            'predicted_outcome': predicted_outcome,\n",
    "        }\n",
    "        if train:\n",
    "            actual_score = actual_y_test[i, 0]\n",
    "            actual_opponent_score = actual_y_test[i, 1]\n",
    "            actual_outcome = 'W' if actual_score > actual_opponent_score else 'L' if actual_score < actual_opponent_score else 'D'\n",
    "            result['actual_score'] = actual_score\n",
    "            result['actual_opponent_score'] = actual_opponent_score\n",
    "            result['actual_outcome'] = actual_outcome\n",
    "        results.append(result)\n",
    "    return results\n",
    "\n"
   ]
  },
  {
   "cell_type": "code",
   "execution_count": 21,
   "metadata": {},
   "outputs": [
    {
     "data": {
      "text/html": [
       "<div>\n",
       "<style scoped>\n",
       "    .dataframe tbody tr th:only-of-type {\n",
       "        vertical-align: middle;\n",
       "    }\n",
       "\n",
       "    .dataframe tbody tr th {\n",
       "        vertical-align: top;\n",
       "    }\n",
       "\n",
       "    .dataframe thead th {\n",
       "        text-align: right;\n",
       "    }\n",
       "</style>\n",
       "<table border=\"1\" class=\"dataframe\">\n",
       "  <thead>\n",
       "    <tr style=\"text-align: right;\">\n",
       "      <th></th>\n",
       "      <th>team</th>\n",
       "      <th>opponent</th>\n",
       "      <th>is_home</th>\n",
       "      <th>country</th>\n",
       "      <th>season_start_year</th>\n",
       "      <th>predicted_score</th>\n",
       "      <th>predicted_opponent_score</th>\n",
       "      <th>predicted_outcome</th>\n",
       "      <th>actual_score</th>\n",
       "      <th>actual_opponent_score</th>\n",
       "      <th>actual_outcome</th>\n",
       "    </tr>\n",
       "  </thead>\n",
       "  <tbody>\n",
       "    <tr>\n",
       "      <th>1256</th>\n",
       "      <td>Espanyol</td>\n",
       "      <td>Valladolid</td>\n",
       "      <td>0</td>\n",
       "      <td>SPA</td>\n",
       "      <td>2022</td>\n",
       "      <td>1</td>\n",
       "      <td>1</td>\n",
       "      <td>D</td>\n",
       "      <td>1.0</td>\n",
       "      <td>2.0</td>\n",
       "      <td>L</td>\n",
       "    </tr>\n",
       "    <tr>\n",
       "      <th>1657</th>\n",
       "      <td>Juventus</td>\n",
       "      <td>Salernitana</td>\n",
       "      <td>0</td>\n",
       "      <td>ITA</td>\n",
       "      <td>2022</td>\n",
       "      <td>2</td>\n",
       "      <td>1</td>\n",
       "      <td>W</td>\n",
       "      <td>3.0</td>\n",
       "      <td>0.0</td>\n",
       "      <td>W</td>\n",
       "    </tr>\n",
       "    <tr>\n",
       "      <th>1969</th>\n",
       "      <td>Lorient</td>\n",
       "      <td>Clermont</td>\n",
       "      <td>0</td>\n",
       "      <td>FRA</td>\n",
       "      <td>2022</td>\n",
       "      <td>1</td>\n",
       "      <td>1</td>\n",
       "      <td>D</td>\n",
       "      <td>0.0</td>\n",
       "      <td>2.0</td>\n",
       "      <td>L</td>\n",
       "    </tr>\n",
       "    <tr>\n",
       "      <th>743</th>\n",
       "      <td>Brentford</td>\n",
       "      <td>Arsenal</td>\n",
       "      <td>1</td>\n",
       "      <td>ENG</td>\n",
       "      <td>2022</td>\n",
       "      <td>1</td>\n",
       "      <td>2</td>\n",
       "      <td>L</td>\n",
       "      <td>0.0</td>\n",
       "      <td>3.0</td>\n",
       "      <td>L</td>\n",
       "    </tr>\n",
       "    <tr>\n",
       "      <th>1015</th>\n",
       "      <td>Cremonese</td>\n",
       "      <td>Monza</td>\n",
       "      <td>1</td>\n",
       "      <td>ITA</td>\n",
       "      <td>2022</td>\n",
       "      <td>1</td>\n",
       "      <td>1</td>\n",
       "      <td>D</td>\n",
       "      <td>2.0</td>\n",
       "      <td>3.0</td>\n",
       "      <td>L</td>\n",
       "    </tr>\n",
       "    <tr>\n",
       "      <th>1491</th>\n",
       "      <td>Girona</td>\n",
       "      <td>Rayo Vallecano</td>\n",
       "      <td>1</td>\n",
       "      <td>SPA</td>\n",
       "      <td>2022</td>\n",
       "      <td>1</td>\n",
       "      <td>1</td>\n",
       "      <td>D</td>\n",
       "      <td>2.0</td>\n",
       "      <td>2.0</td>\n",
       "      <td>D</td>\n",
       "    </tr>\n",
       "    <tr>\n",
       "      <th>677</th>\n",
       "      <td>Bologna</td>\n",
       "      <td>Lazio</td>\n",
       "      <td>1</td>\n",
       "      <td>ITA</td>\n",
       "      <td>2022</td>\n",
       "      <td>1</td>\n",
       "      <td>2</td>\n",
       "      <td>L</td>\n",
       "      <td>0.0</td>\n",
       "      <td>0.0</td>\n",
       "      <td>D</td>\n",
       "    </tr>\n",
       "    <tr>\n",
       "      <th>3233</th>\n",
       "      <td>Toulouse</td>\n",
       "      <td>Lyon</td>\n",
       "      <td>0</td>\n",
       "      <td>FRA</td>\n",
       "      <td>2022</td>\n",
       "      <td>1</td>\n",
       "      <td>2</td>\n",
       "      <td>L</td>\n",
       "      <td>1.0</td>\n",
       "      <td>1.0</td>\n",
       "      <td>D</td>\n",
       "    </tr>\n",
       "    <tr>\n",
       "      <th>1378</th>\n",
       "      <td>Freiburg</td>\n",
       "      <td>Werder Bremen</td>\n",
       "      <td>1</td>\n",
       "      <td>GER</td>\n",
       "      <td>2022</td>\n",
       "      <td>2</td>\n",
       "      <td>1</td>\n",
       "      <td>W</td>\n",
       "      <td>2.0</td>\n",
       "      <td>0.0</td>\n",
       "      <td>W</td>\n",
       "    </tr>\n",
       "    <tr>\n",
       "      <th>2620</th>\n",
       "      <td>Rayo Vallecano</td>\n",
       "      <td>Girona</td>\n",
       "      <td>1</td>\n",
       "      <td>SPA</td>\n",
       "      <td>2022</td>\n",
       "      <td>1</td>\n",
       "      <td>1</td>\n",
       "      <td>D</td>\n",
       "      <td>2.0</td>\n",
       "      <td>2.0</td>\n",
       "      <td>D</td>\n",
       "    </tr>\n",
       "  </tbody>\n",
       "</table>\n",
       "</div>"
      ],
      "text/plain": [
       "                team        opponent  is_home country  season_start_year  \\\n",
       "1256        Espanyol      Valladolid        0     SPA               2022   \n",
       "1657        Juventus     Salernitana        0     ITA               2022   \n",
       "1969         Lorient        Clermont        0     FRA               2022   \n",
       "743        Brentford         Arsenal        1     ENG               2022   \n",
       "1015       Cremonese           Monza        1     ITA               2022   \n",
       "1491          Girona  Rayo Vallecano        1     SPA               2022   \n",
       "677          Bologna           Lazio        1     ITA               2022   \n",
       "3233        Toulouse            Lyon        0     FRA               2022   \n",
       "1378        Freiburg   Werder Bremen        1     GER               2022   \n",
       "2620  Rayo Vallecano          Girona        1     SPA               2022   \n",
       "\n",
       "      predicted_score  predicted_opponent_score predicted_outcome  \\\n",
       "1256                1                         1                 D   \n",
       "1657                2                         1                 W   \n",
       "1969                1                         1                 D   \n",
       "743                 1                         2                 L   \n",
       "1015                1                         1                 D   \n",
       "1491                1                         1                 D   \n",
       "677                 1                         2                 L   \n",
       "3233                1                         2                 L   \n",
       "1378                2                         1                 W   \n",
       "2620                1                         1                 D   \n",
       "\n",
       "      actual_score  actual_opponent_score actual_outcome  \n",
       "1256           1.0                    2.0              L  \n",
       "1657           3.0                    0.0              W  \n",
       "1969           0.0                    2.0              L  \n",
       "743            0.0                    3.0              L  \n",
       "1015           2.0                    3.0              L  \n",
       "1491           2.0                    2.0              D  \n",
       "677            0.0                    0.0              D  \n",
       "3233           1.0                    1.0              D  \n",
       "1378           2.0                    0.0              W  \n",
       "2620           2.0                    2.0              D  "
      ]
     },
     "metadata": {},
     "output_type": "display_data"
    }
   ],
   "source": [
    "results = return_results(predictions, teams_test)\n",
    "\n",
    "# Assuming y_pred and y_test are numpy arrays of the scores\n",
    "comparison_df = pd.DataFrame(results)\n",
    "\n",
    "# Sample for inspection\n",
    "display(comparison_df.sample(10))"
   ]
  },
  {
   "cell_type": "code",
   "execution_count": 22,
   "metadata": {},
   "outputs": [],
   "source": [
    "prediction_df = pd.read_csv('data/machine_learning/2023_predict.csv')\n",
    "p_scaled_data = scaler.transform(prediction_df[features_to_scale])\n",
    "p_scaled_df = pd.DataFrame(p_scaled_data, columns=features_to_scale)\n",
    "p_unscaled_df = prediction_df.drop(columns=features_to_scale)\n",
    "p_final_df = pd.concat([p_scaled_df, p_unscaled_df], axis=1)"
   ]
  },
  {
   "cell_type": "code",
   "execution_count": 23,
   "metadata": {},
   "outputs": [],
   "source": [
    "p_sequences = create_sequences(p_final_df)\n",
    "p_test, p_teams = process_data(p_sequences, train=False)"
   ]
  },
  {
   "cell_type": "code",
   "execution_count": 24,
   "metadata": {},
   "outputs": [
    {
     "name": "stdout",
     "output_type": "stream",
     "text": [
      "  1/110 [..............................] - ETA: 5s"
     ]
    },
    {
     "name": "stdout",
     "output_type": "stream",
     "text": [
      "110/110 [==============================] - 1s 5ms/step\n"
     ]
    }
   ],
   "source": [
    "p_pred_scaled = model.predict(p_test)\n",
    "p_pred = scaler_y.inverse_transform(p_pred_scaled)\n",
    "p_predictions = np.rint(p_pred).astype(int)"
   ]
  },
  {
   "cell_type": "code",
   "execution_count": 25,
   "metadata": {},
   "outputs": [
    {
     "data": {
      "text/html": [
       "<div>\n",
       "<style scoped>\n",
       "    .dataframe tbody tr th:only-of-type {\n",
       "        vertical-align: middle;\n",
       "    }\n",
       "\n",
       "    .dataframe tbody tr th {\n",
       "        vertical-align: top;\n",
       "    }\n",
       "\n",
       "    .dataframe thead th {\n",
       "        text-align: right;\n",
       "    }\n",
       "</style>\n",
       "<table border=\"1\" class=\"dataframe\">\n",
       "  <thead>\n",
       "    <tr style=\"text-align: right;\">\n",
       "      <th></th>\n",
       "      <th>team</th>\n",
       "      <th>opponent</th>\n",
       "      <th>is_home</th>\n",
       "      <th>country</th>\n",
       "      <th>season_start_year</th>\n",
       "      <th>predicted_score</th>\n",
       "      <th>predicted_opponent_score</th>\n",
       "      <th>predicted_outcome</th>\n",
       "    </tr>\n",
       "  </thead>\n",
       "  <tbody>\n",
       "    <tr>\n",
       "      <th>3022</th>\n",
       "      <td>Strasbourg</td>\n",
       "      <td>Clermont</td>\n",
       "      <td>0</td>\n",
       "      <td>FRA</td>\n",
       "      <td>2023</td>\n",
       "      <td>1</td>\n",
       "      <td>1</td>\n",
       "      <td>D</td>\n",
       "    </tr>\n",
       "    <tr>\n",
       "      <th>3379</th>\n",
       "      <td>Werder Bremen</td>\n",
       "      <td>Darmstadt</td>\n",
       "      <td>0</td>\n",
       "      <td>GER</td>\n",
       "      <td>2023</td>\n",
       "      <td>1</td>\n",
       "      <td>1</td>\n",
       "      <td>D</td>\n",
       "    </tr>\n",
       "    <tr>\n",
       "      <th>551</th>\n",
       "      <td>Betis</td>\n",
       "      <td>Osasuna</td>\n",
       "      <td>0</td>\n",
       "      <td>SPA</td>\n",
       "      <td>2023</td>\n",
       "      <td>1</td>\n",
       "      <td>1</td>\n",
       "      <td>D</td>\n",
       "    </tr>\n",
       "    <tr>\n",
       "      <th>130</th>\n",
       "      <td>Almeria</td>\n",
       "      <td>Getafe</td>\n",
       "      <td>1</td>\n",
       "      <td>SPA</td>\n",
       "      <td>2023</td>\n",
       "      <td>1</td>\n",
       "      <td>1</td>\n",
       "      <td>D</td>\n",
       "    </tr>\n",
       "    <tr>\n",
       "      <th>520</th>\n",
       "      <td>Betis</td>\n",
       "      <td>Osasuna</td>\n",
       "      <td>1</td>\n",
       "      <td>SPA</td>\n",
       "      <td>2023</td>\n",
       "      <td>1</td>\n",
       "      <td>1</td>\n",
       "      <td>D</td>\n",
       "    </tr>\n",
       "    <tr>\n",
       "      <th>1990</th>\n",
       "      <td>Luton</td>\n",
       "      <td>Brighton</td>\n",
       "      <td>1</td>\n",
       "      <td>ENG</td>\n",
       "      <td>2023</td>\n",
       "      <td>1</td>\n",
       "      <td>2</td>\n",
       "      <td>L</td>\n",
       "    </tr>\n",
       "    <tr>\n",
       "      <th>1453</th>\n",
       "      <td>Getafe</td>\n",
       "      <td>Girona</td>\n",
       "      <td>0</td>\n",
       "      <td>SPA</td>\n",
       "      <td>2023</td>\n",
       "      <td>1</td>\n",
       "      <td>1</td>\n",
       "      <td>D</td>\n",
       "    </tr>\n",
       "    <tr>\n",
       "      <th>2804</th>\n",
       "      <td>Reims</td>\n",
       "      <td>Le Havre</td>\n",
       "      <td>0</td>\n",
       "      <td>FRA</td>\n",
       "      <td>2023</td>\n",
       "      <td>1</td>\n",
       "      <td>1</td>\n",
       "      <td>D</td>\n",
       "    </tr>\n",
       "    <tr>\n",
       "      <th>1166</th>\n",
       "      <td>Empoli</td>\n",
       "      <td>Verona</td>\n",
       "      <td>0</td>\n",
       "      <td>ITA</td>\n",
       "      <td>2023</td>\n",
       "      <td>1</td>\n",
       "      <td>2</td>\n",
       "      <td>L</td>\n",
       "    </tr>\n",
       "    <tr>\n",
       "      <th>165</th>\n",
       "      <td>Arsenal</td>\n",
       "      <td>Brentford</td>\n",
       "      <td>1</td>\n",
       "      <td>ENG</td>\n",
       "      <td>2023</td>\n",
       "      <td>2</td>\n",
       "      <td>1</td>\n",
       "      <td>W</td>\n",
       "    </tr>\n",
       "  </tbody>\n",
       "</table>\n",
       "</div>"
      ],
      "text/plain": [
       "               team   opponent  is_home country  season_start_year  \\\n",
       "3022     Strasbourg   Clermont        0     FRA               2023   \n",
       "3379  Werder Bremen  Darmstadt        0     GER               2023   \n",
       "551           Betis    Osasuna        0     SPA               2023   \n",
       "130         Almeria     Getafe        1     SPA               2023   \n",
       "520           Betis    Osasuna        1     SPA               2023   \n",
       "1990          Luton   Brighton        1     ENG               2023   \n",
       "1453         Getafe     Girona        0     SPA               2023   \n",
       "2804          Reims   Le Havre        0     FRA               2023   \n",
       "1166         Empoli     Verona        0     ITA               2023   \n",
       "165         Arsenal  Brentford        1     ENG               2023   \n",
       "\n",
       "      predicted_score  predicted_opponent_score predicted_outcome  \n",
       "3022                1                         1                 D  \n",
       "3379                1                         1                 D  \n",
       "551                 1                         1                 D  \n",
       "130                 1                         1                 D  \n",
       "520                 1                         1                 D  \n",
       "1990                1                         2                 L  \n",
       "1453                1                         1                 D  \n",
       "2804                1                         1                 D  \n",
       "1166                1                         2                 L  \n",
       "165                 2                         1                 W  "
      ]
     },
     "metadata": {},
     "output_type": "display_data"
    }
   ],
   "source": [
    "p_results = return_results(p_predictions, p_teams, train=False)\n",
    "\n",
    "# Assuming y_pred and y_test are numpy arrays of the scores\n",
    "p_comparison_df = pd.DataFrame(p_results)\n",
    "\n",
    "# Sample for inspection\n",
    "display(p_comparison_df.sample(10))"
   ]
  },
  {
   "cell_type": "code",
   "execution_count": 26,
   "metadata": {},
   "outputs": [],
   "source": [
    "predictions_df = p_comparison_df[['country', 'team', 'opponent', 'is_home', 'predicted_outcome']]\n",
    "predictions_df = predictions_df.rename(columns={'predicted_outcome': 'predicted_result'})\n",
    "predictions_df.to_csv(f\"./data/machine_learning/predictions/LSTM.csv\", index=False)"
   ]
  },
  {
   "cell_type": "markdown",
   "metadata": {},
   "source": [
    "Confusion matrix for Test Data"
   ]
  },
  {
   "cell_type": "code",
   "execution_count": 30,
   "metadata": {},
   "outputs": [
    {
     "name": "stdout",
     "output_type": "stream",
     "text": [
      "Accuracy: 0.48002189381499727\n",
      "Precision: 0.49715461661168775\n",
      "Recall: 0.48002189381499727\n",
      "F1 Score: 0.4866718968429229\n",
      "Classification Report:\n",
      "              precision    recall  f1-score   support\n",
      "\n",
      "           W       0.57      0.51      0.54      1384\n",
      "           D       0.29      0.37      0.33       886\n",
      "           L       0.55      0.52      0.54      1384\n",
      "\n",
      "    accuracy                           0.48      3654\n",
      "   macro avg       0.47      0.47      0.47      3654\n",
      "weighted avg       0.50      0.48      0.49      3654\n",
      "\n"
     ]
    },
    {
     "data": {
      "image/png": "[encoded data removed]",
      "text/plain": [
       "<Figure size 1000x700 with 2 Axes>"
      ]
     },
     "metadata": {},
     "output_type": "display_data"
    }
   ],
   "source": [
    "def print_model_results(actual, predicted):\n",
    "    accuracy = accuracy_score(actual, predicted)\n",
    "    precision = precision_score(actual, predicted, average='weighted', zero_division=0)\n",
    "    recall = recall_score(actual, predicted, average='weighted', zero_division=0)\n",
    "    f1 = f1_score(actual, predicted, average='weighted', zero_division=0)\n",
    "    print(\"Accuracy:\", accuracy)\n",
    "    print(\"Precision:\", precision)\n",
    "    print(\"Recall:\", recall)\n",
    "    print(\"F1 Score:\", f1)\n",
    "\n",
    "    print(\"Classification Report:\")\n",
    "    print(classification_report(actual, predicted, labels=['W', 'D', 'L'], zero_division=0))\n",
    "    conf_matrix = confusion_matrix(actual, predicted, labels=[\"W\", \"D\", \"L\"])\n",
    "\n",
    "    fig, ax = plt.subplots(figsize=(10, 7)) \n",
    "    sns.heatmap(conf_matrix, annot=True, fmt='d', cmap='Blues', ax=ax,\n",
    "                xticklabels=[\"W\", \"D\", \"L\"], yticklabels=[\"W\", \"D\", \"L\"])\n",
    "\n",
    "    # Labels, title, and ticks\n",
    "    label_font = {'size':'14'}\n",
    "    ax.set_xlabel('Predicted labels', fontdict=label_font)\n",
    "    ax.set_ylabel('True labels', fontdict=label_font)\n",
    "    ax.set_title('Confusion Matrix', fontdict={'size':'16'}) \n",
    "    ax.tick_params(axis='both', which='major', labelsize=12)\n",
    "\n",
    "    lstm_metrics_df = pd.DataFrame({\n",
    "        \"Accuracy\": accuracy,\n",
    "        \"Precision\": precision,\n",
    "        \"Recall\": recall,\n",
    "        \"F1 Score\": f1\n",
    "    }, index=pd.Index(['LSTM']))\n",
    "    lstm_metrics_df.to_csv('data/machine_learning/lstm_metrics.csv')\n",
    "\n",
    "    plt.show()\n",
    "\n",
    "print_model_results(comparison_df['actual_outcome'], comparison_df['predicted_outcome'])"
   ]
  }
 ],
 "metadata": {
  "kernelspec": {
   "display_name": "sc1015",
   "language": "python",
   "name": "python3"
  },
  "language_info": {
   "codemirror_mode": {
    "name": "ipython",
    "version": 3
   },
   "file_extension": ".py",
   "mimetype": "text/x-python",
   "name": "python",
   "nbconvert_exporter": "python",
   "pygments_lexer": "ipython3",
   "version": "3.10.13"
  }
 },
 "nbformat": 4,
 "nbformat_minor": 2
}

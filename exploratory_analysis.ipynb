{
 "cells": [
  {
   "cell_type": "code",
   "execution_count": 1,
   "id": "0c4f7798",
   "metadata": {},
   "outputs": [],
   "source": [
    "import csv\n",
    "import numpy as np\n",
    "import pandas as pd\n",
    "\n",
    "import matplotlib.pyplot as plt\n",
    "import matplotlib.patches as mpatches\n",
    "import seaborn as sns\n",
    "\n",
    "from constants import *\n",
    "\n",
    "# Embeds graphs in Jupyter notebook (instead of pop-ups)\n",
    "%matplotlib inline\n",
    "\n",
    "pd.set_option('display.max_columns', None) # show all columns\n",
    "pd.set_option('display.max_rows', None) # show all rows"
   ]
  },
  {
   "cell_type": "code",
   "execution_count": 2,
   "id": "32694a32",
   "metadata": {},
   "outputs": [],
   "source": [
    "teams_df = pd.read_csv(f\"./data/teams/teams.csv\")\n",
    "scores_df = pd.read_csv(f\"./data/scores/scores.csv\")"
   ]
  },
  {
   "cell_type": "code",
   "execution_count": 3,
   "id": "559a5f97",
   "metadata": {},
   "outputs": [],
   "source": [
    "# Categorise data - refer to constants.py\n",
    "# teams_90s_played_df = teams_df[['squad', 'minutes_90s']]\n",
    "\n",
    "# Drop unwanted columns\n",
    "teams_df = teams_df[list(sum(TEAM_COLUMNS_DICT_COMBINED.values(), []))]"
   ]
  },
  {
   "cell_type": "code",
   "execution_count": 4,
   "id": "2a7b8dd5",
   "metadata": {},
   "outputs": [],
   "source": [
    "def get_correlation(df, columns):\n",
    "    '''Returns correlation between selected columns'''\n",
    "    df_corr = df[columns].corr().abs() # get correlation matrix; absolute values for strength of correlation\n",
    "    df_corr = df_corr.where(np.triu(np.ones(df_corr.shape)).astype(bool)) # get upper triangular values only\n",
    "    df_corr = df_corr.stack().sort_values(ascending=False).reset_index()\n",
    "    df_corr.columns = ['col_1', 'col_2', 'corr']\n",
    "    return df_corr[df_corr['corr'] < 1].reset_index(drop=True)\n",
    "\n",
    "def in_different_category(col1, col2):\n",
    "    for col in TEAM_COLUMNS_DICT_COMBINED.values():\n",
    "        if col1 in col and col2 in col:\n",
    "            return False\n",
    "    return True"
   ]
  },
  {
   "cell_type": "code",
   "execution_count": 5,
   "id": "dd0f3b88",
   "metadata": {
    "scrolled": true
   },
   "outputs": [],
   "source": [
    "# Get correlation\n",
    "teams_corr_df = get_correlation(teams_df, list(teams_df.columns))\n",
    "\n",
    "# Filter out correlations between similar variables\n",
    "teams_corr_df = teams_corr_df[\n",
    "    teams_corr_df.apply(\n",
    "        lambda row: in_different_category(row['col_1'], row['col_2']),\n",
    "        axis=1\n",
    "    )\n",
    "].reset_index(drop=True)"
   ]
  },
  {
   "cell_type": "code",
   "execution_count": 6,
   "id": "0cf39726",
   "metadata": {},
   "outputs": [],
   "source": [
    "# Note: the following correlation values are absolute (i.e. |corr|)\n",
    "# as we are measuring strength of correlationship for now\n",
    "# KIV: are a few outliers skewing the metrics?\n",
    "\n",
    "# Strong correlation between passes and carries\n",
    "# passes_live\tcarries_distance\t0.889320\n",
    "# passes_into_final_third\tcarries\t0.883365\n",
    "# passes_pct\tcarries\t0.835825\n",
    "\n",
    "# Strong correlation between progressive actions and: g/a, possession\n",
    "# teams_corr_df[\n",
    "#     (teams_corr_df['col_1'].str.contains(\"progressive\", regex=True)) |\n",
    "#     (teams_corr_df['col_2'].str.contains(\"progressive\", regex=True))\n",
    "# ]\n",
    "\n",
    "# Strong correlation between possession and g/a\n",
    "# teams_corr_df[\n",
    "#     (\n",
    "#         (teams_corr_df['col_1'].str.contains(\"possession\", regex=True)) &\n",
    "#         (teams_corr_df['col_2'].str.contains(\"x\", regex=True))\n",
    "#     ) | (\n",
    "#         (teams_corr_df['col_1'].str.contains(\"x\", regex=True)) &\n",
    "#         (teams_corr_df['col_2'].str.contains(\"possession\", regex=True))\n",
    "#     )\n",
    "# ]\n",
    "\n",
    "# Looking at defensive metrics\n",
    "# teams_corr_df[\n",
    "#     (teams_corr_df['col_1'].isin(TEAM_COLUMNS_DICT_COMBINED[\"defence\"])) |\n",
    "#     (teams_corr_df['col_2'].isin(TEAM_COLUMNS_DICT_COMBINED[\"defence\"]))\n",
    "# ]\n",
    "\n",
    "# High press =/= high possession\n",
    "# teams_corr_df[\n",
    "#     (teams_corr_df['col_1'].str.contains(\"tackles_att_3rd\", regex=True)) |\n",
    "#     (teams_corr_df['col_2'].str.contains(\"tackles_att_3rd\", regex=True))\n",
    "# ]\n",
    "\n",
    "# Q: Is technical and physical ability mutually exclusive?\n",
    "# A: Probably not? More direct/long-ball teams may lose more aerial duels and\n",
    "# have lower overall pass accuracy (because of long balls)\n",
    "# passes_pct\taerials_lost\t0.756948\n",
    "# passes_pct_short\taerials_won\t0.625621"
   ]
  }
 ],
 "metadata": {
  "kernelspec": {
   "display_name": "Python 3 (ipykernel)",
   "language": "python",
   "name": "python3"
  },
  "language_info": {
   "codemirror_mode": {
    "name": "ipython",
    "version": 3
   },
   "file_extension": ".py",
   "mimetype": "text/x-python",
   "name": "python",
   "nbconvert_exporter": "python",
   "pygments_lexer": "ipython3",
   "version": "3.9.7"
  }
 },
 "nbformat": 4,
 "nbformat_minor": 5
}

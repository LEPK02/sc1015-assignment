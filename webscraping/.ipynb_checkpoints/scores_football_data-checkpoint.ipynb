{
 "cells": [
  {
   "cell_type": "code",
   "execution_count": 1,
   "metadata": {},
   "outputs": [],
   "source": [
    "!playwright install\n",
    "# !pip install playwright"
   ]
  },
  {
   "cell_type": "code",
   "execution_count": 1,
   "metadata": {},
   "outputs": [],
   "source": [
    "import asyncio\n",
    "import nest_asyncio\n",
    "nest_asyncio.apply()\n",
    "\n",
    "from playwright.async_api import async_playwright\n",
    "from playwright.async_api import TimeoutError\n",
    "\n",
    "import pandas as pd \n"
   ]
  },
  {
   "cell_type": "code",
   "execution_count": 17,
   "metadata": {},
   "outputs": [],
   "source": [
    "START_YEAR = 2023\n",
    "END_YEAR = 2023\n",
    "\n",
    "COMPETITIONS = {\n",
    "    'ENG': 'england/premier-league', \n",
    "    'SPA': 'spain/laliga',\n",
    "    'ITA': 'italy/serie-a',\n",
    "    'GER': 'germany/bundesliga',\n",
    "    'FRA': 'france/ligue-1'\n",
    "}\n",
    "\n",
    "COUNTRIES = ['ENG', 'SPA', 'ITA', 'GER', 'FRA']"
   ]
  },
  {
   "cell_type": "code",
   "execution_count": 18,
   "metadata": {},
   "outputs": [],
   "source": [
    "class Season:\n",
    "\n",
    "    time_pattern = r'(\\d{2}\\.\\d{2}\\.\\s\\d{2}:\\d{2})'\n",
    "\n",
    "    def __init__(self, year, country, page):\n",
    "        self.country = country\n",
    "        self.year = year\n",
    "        self.page = page\n",
    "        self.results = None\n",
    "        self.url = f\"https://www.flashscore.com/football/{COMPETITIONS[country]}-{self.year}-{self.year+1}/results/\"\n",
    "\n",
    "    async def get_results(self):\n",
    "        await self.page.goto(self.url)\n",
    "        await self.page.wait_for_selector('a.event__more.event__more--static')\n",
    "\n",
    "        await self.page.content()\n",
    "        \n",
    "        while True:\n",
    "            show_more_button_locator = self.page.locator('a.event__more.event__more--static')\n",
    "            if await show_more_button_locator.is_visible():\n",
    "                try:\n",
    "                    await show_more_button_locator.click(timeout=10000)\n",
    "                    await self.page.wait_for_load_state('domcontentloaded', timeout=10000)\n",
    "                except TimeoutError:\n",
    "                    # print(\"Timeout occurred, checking for button again...\")\n",
    "                    pass\n",
    "            else:\n",
    "                print(f\"No 'Show more' button visible for {self.year}.\")\n",
    "                break\n",
    "\n",
    "        times = await self.page.locator(\"div.event__time\").all_text_contents()\n",
    "        home_teams = await self.page.locator(\"div.event__participant.event__participant--home\").all_text_contents()\n",
    "        home_scores = await self.page.locator(\"div.event__score.event__score--home\").all_text_contents()\n",
    "        away_teams = await self.page.locator(\"div.event__participant.event__participant--away\").all_text_contents()\n",
    "        away_scores = await self.page.locator(\"div.event__score.event__score--away\").all_text_contents()\n",
    "\n",
    "        self.results = {\n",
    "            'time': times,\n",
    "            'home_team': home_teams,\n",
    "            'home_score': home_scores,\n",
    "            'away_team': away_teams,\n",
    "            'away_score': away_scores,\n",
    "        }\n",
    "\n",
    "    @staticmethod\n",
    "    def determine_correct_year(row):\n",
    "        month = int(row['time'].split('.')[1]) \n",
    "        if month >= 6:\n",
    "            return row['season_start_year']\n",
    "        else:\n",
    "            return row['season_end_year']\n",
    "\n",
    "    def get_frame_scores(self):\n",
    "\n",
    "        print(f\"Results: {self.results}\")\n",
    "\n",
    "        indiv_df = pd.DataFrame(self.results)\n",
    "        indiv_df['season_start_year'] = self.year\n",
    "        indiv_df['season_end_year'] = self.year+1\n",
    "        indiv_df['correct_year'] = indiv_df.apply(self.determine_correct_year, axis=1)\n",
    "\n",
    "        indiv_df['time'] = indiv_df['time'].str.extract(self.time_pattern)[0] # issue with Italy 20.09 Verona vs Roma 20/21\n",
    "        indiv_df['time'] = pd.to_datetime(indiv_df['time'] + ' ' + indiv_df['correct_year'].astype(str), format='%d.%m. %H:%M %Y')\n",
    "        indiv_df = indiv_df.sort_values(by='time')\n",
    "\n",
    "        indiv_df.to_csv(f\"../data/scores/raw/{self.country}{self.year}_scores.csv\",index=False)\n",
    "        print(f\"{len(self.results['time'])} rows of data found in {self.year}, saved to CSV\")"
   ]
  },
  {
   "cell_type": "code",
   "execution_count": null,
   "metadata": {},
   "outputs": [],
   "source": [
    "async with async_playwright() as p:\n",
    "\n",
    "    browser = await p.chromium.launch(headless=True)\n",
    "    page = await browser.new_page()\n",
    "\n",
    "    for country in COMPETITIONS.keys():\n",
    "    \n",
    "        for year in range(START_YEAR, END_YEAR+1):\n",
    "\n",
    "            season = Season(year, country, page)\n",
    "            await season.get_results()\n",
    "            season.get_frame_scores()\n",
    "\n",
    "    await browser.close()"
   ]
  }
 ],
 "metadata": {
  "kernelspec": {
   "display_name": "Python 3 (ipykernel)",
   "language": "python",
   "name": "python3"
  },
  "language_info": {
   "codemirror_mode": {
    "name": "ipython",
    "version": 3
   },
   "file_extension": ".py",
   "mimetype": "text/x-python",
   "name": "python",
   "nbconvert_exporter": "python",
   "pygments_lexer": "ipython3",
   "version": "3.9.7"
  }
 },
 "nbformat": 4,
 "nbformat_minor": 2
}
